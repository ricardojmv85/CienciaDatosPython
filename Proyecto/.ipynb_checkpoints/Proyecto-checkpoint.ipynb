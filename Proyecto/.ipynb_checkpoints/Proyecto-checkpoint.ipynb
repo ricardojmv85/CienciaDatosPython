{
 "cells": [
  {
   "cell_type": "code",
   "execution_count": 1,
   "metadata": {},
   "outputs": [],
   "source": [
    "import matplotlib.pyplot as plt\n",
    "import seaborn as sns\n",
    "import pandas as pd\n",
    "import numpy as np"
   ]
  },
  {
   "cell_type": "markdown",
   "metadata": {},
   "source": [
    "## Carga del dataset"
   ]
  },
  {
   "cell_type": "code",
   "execution_count": 10,
   "metadata": {},
   "outputs": [],
   "source": [
    "dataset = np.load('proyecto_training_data.npy')"
   ]
  },
  {
   "cell_type": "code",
   "execution_count": 13,
   "metadata": {},
   "outputs": [
    {
     "data": {
      "text/plain": [
       "(1460, 6)"
      ]
     },
     "execution_count": 13,
     "metadata": {},
     "output_type": "execute_result"
    }
   ],
   "source": [
    "dataset.shape"
   ]
  },
  {
   "cell_type": "markdown",
   "metadata": {},
   "source": [
    "## Separar Dataset"
   ]
  },
  {
   "cell_type": "code",
   "execution_count": 14,
   "metadata": {},
   "outputs": [
    {
     "name": "stdout",
     "output_type": "stream",
     "text": [
      "Forma dataset entrenamiento (1168, 6)\n",
      "Forma dataset validacion (292, 6)\n"
     ]
    }
   ],
   "source": [
    "longitud_dataset = dataset.shape[0]\n",
    "entrenamiento = dataset[0:int(longitud_dataset * 0.8), ]\n",
    "validacion = dataset[int(longitud_dataset * 0.8): , ]\n",
    "print(f\"Forma dataset entrenamiento {entrenamiento.shape}\")\n",
    "print(f\"Forma dataset validacion {validacion.shape}\")"
   ]
  },
  {
   "cell_type": "markdown",
   "metadata": {},
   "source": [
    "## Analisis Exploratorio"
   ]
  },
  {
   "cell_type": "markdown",
   "metadata": {},
   "source": [
    "#### Sale Price"
   ]
  },
  {
   "cell_type": "code",
   "execution_count": 46,
   "metadata": {},
   "outputs": [
    {
     "name": "stdout",
     "output_type": "stream",
     "text": [
      "Media\n",
      "180590.27739726027\n",
      "\n",
      "Valor Maximo\n",
      "755000.0\n",
      "\n",
      "Valor Minimo\n",
      "34900.0\n",
      "\n",
      "Rango\n",
      "720100.0\n",
      "\n",
      "Desviacion Estandar\n",
      "78781.95108033362\n"
     ]
    },
    {
     "name": "stderr",
     "output_type": "stream",
     "text": [
      "C:\\Users\\Ricar\\anaconda3\\lib\\site-packages\\seaborn\\distributions.py:2551: FutureWarning: `distplot` is a deprecated function and will be removed in a future version. Please adapt your code to use either `displot` (a figure-level function with similar flexibility) or `histplot` (an axes-level function for histograms).\n",
      "  warnings.warn(msg, FutureWarning)\n"
     ]
    },
    {
     "data": {
      "text/plain": [
       "Text(0, 0.5, '')"
      ]
     },
     "execution_count": 46,
     "metadata": {},
     "output_type": "execute_result"
    },
    {
     "data": {
      "image/png": "[encoded data removed]",
      "text/plain": [
       "<Figure size 432x288 with 1 Axes>"
      ]
     },
     "metadata": {
      "needs_background": "light"
     },
     "output_type": "display_data"
    }
   ],
   "source": [
    "print(\"Media\")\n",
    "print(np.mean(entrenamiento[:,0]))\n",
    "\n",
    "print(\"\\nValor Maximo\")\n",
    "print(np.max(entrenamiento[:,0]))\n",
    "\n",
    "print(\"\\nValor Minimo\")\n",
    "print(np.min(entrenamiento[:,0]))\n",
    "\n",
    "print(\"\\nRango\")\n",
    "print(np.ptp(entrenamiento[:,0]))\n",
    "\n",
    "print(\"\\nDesviacion Estandar\")\n",
    "print(np.std(entrenamiento[:,0]))\n",
    "\n",
    "sns.distplot(entrenamiento[:, 0])\n",
    "plt.title('Sale Price')\n",
    "plt.xlabel('Price')\n",
    "plt.ylabel('')"
   ]
  },
  {
   "cell_type": "markdown",
   "metadata": {},
   "source": [
    "#### Over All Quality"
   ]
  },
  {
   "cell_type": "code",
   "execution_count": 47,
   "metadata": {},
   "outputs": [
    {
     "name": "stdout",
     "output_type": "stream",
     "text": [
      "Media\n",
      "6.101027397260274\n",
      "\n",
      "Valor Maximo\n",
      "10.0\n",
      "\n",
      "Valor Minimo\n",
      "1.0\n",
      "\n",
      "Rango\n",
      "9.0\n",
      "\n",
      "Desviacion Estandar\n",
      "1.377435193240741\n"
     ]
    },
    {
     "name": "stderr",
     "output_type": "stream",
     "text": [
      "C:\\Users\\Ricar\\anaconda3\\lib\\site-packages\\seaborn\\distributions.py:2551: FutureWarning: `distplot` is a deprecated function and will be removed in a future version. Please adapt your code to use either `displot` (a figure-level function with similar flexibility) or `histplot` (an axes-level function for histograms).\n",
      "  warnings.warn(msg, FutureWarning)\n"
     ]
    },
    {
     "data": {
      "text/plain": [
       "Text(0, 0.5, '')"
      ]
     },
     "execution_count": 47,
     "metadata": {},
     "output_type": "execute_result"
    },
    {
     "data": {
      "image/png": "[encoded data removed]",
      "text/plain": [
       "<Figure size 432x288 with 1 Axes>"
      ]
     },
     "metadata": {
      "needs_background": "light"
     },
     "output_type": "display_data"
    }
   ],
   "source": [
    "print(\"Media\")\n",
    "print(np.mean(entrenamiento[:,1]))\n",
    "\n",
    "print(\"\\nValor Maximo\")\n",
    "print(np.max(entrenamiento[:,1]))\n",
    "\n",
    "print(\"\\nValor Minimo\")\n",
    "print(np.min(entrenamiento[:,1]))\n",
    "\n",
    "print(\"\\nRango\")\n",
    "print(np.ptp(entrenamiento[:,1]))\n",
    "\n",
    "print(\"\\nDesviacion Estandar\")\n",
    "print(np.std(entrenamiento[:,1]))\n",
    "\n",
    "sns.distplot(entrenamiento[:, 1])\n",
    "plt.title('Over All Quality')\n",
    "plt.xlabel('')\n",
    "plt.ylabel('')"
   ]
  },
  {
   "cell_type": "markdown",
   "metadata": {},
   "source": [
    "#### First Floor Square Feet"
   ]
  },
  {
   "cell_type": "code",
   "execution_count": 48,
   "metadata": {},
   "outputs": [
    {
     "name": "stdout",
     "output_type": "stream",
     "text": [
      "Media\n",
      "1156.3236301369864\n",
      "\n",
      "Valor Maximo\n",
      "3228.0\n",
      "\n",
      "Valor Minimo\n",
      "334.0\n",
      "\n",
      "Rango\n",
      "2894.0\n",
      "\n",
      "Desviacion Estandar\n",
      "373.620331503586\n"
     ]
    },
    {
     "name": "stderr",
     "output_type": "stream",
     "text": [
      "C:\\Users\\Ricar\\anaconda3\\lib\\site-packages\\seaborn\\distributions.py:2551: FutureWarning: `distplot` is a deprecated function and will be removed in a future version. Please adapt your code to use either `displot` (a figure-level function with similar flexibility) or `histplot` (an axes-level function for histograms).\n",
      "  warnings.warn(msg, FutureWarning)\n"
     ]
    },
    {
     "data": {
      "text/plain": [
       "Text(0, 0.5, '')"
      ]
     },
     "execution_count": 48,
     "metadata": {},
     "output_type": "execute_result"
    },
    {
     "data": {
      "image/png": "[encoded data removed]",
      "text/plain": [
       "<Figure size 432x288 with 1 Axes>"
      ]
     },
     "metadata": {
      "needs_background": "light"
     },
     "output_type": "display_data"
    }
   ],
   "source": [
    "print(\"Media\")\n",
    "print(np.mean(entrenamiento[:,2]))\n",
    "\n",
    "print(\"\\nValor Maximo\")\n",
    "print(np.max(entrenamiento[:,2]))\n",
    "\n",
    "print(\"\\nValor Minimo\")\n",
    "print(np.min(entrenamiento[:,2]))\n",
    "\n",
    "print(\"\\nRango\")\n",
    "print(np.ptp(entrenamiento[:,2]))\n",
    "\n",
    "print(\"\\nDesviacion Estandar\")\n",
    "print(np.std(entrenamiento[:,2]))\n",
    "\n",
    "sns.distplot(entrenamiento[:, 2])\n",
    "plt.title('Pies Cuadrados')\n",
    "plt.xlabel('')\n",
    "plt.ylabel('')"
   ]
  },
  {
   "cell_type": "markdown",
   "metadata": {},
   "source": [
    "#### Total Rooms above grade"
   ]
  },
  {
   "cell_type": "code",
   "execution_count": 51,
   "metadata": {},
   "outputs": [
    {
     "name": "stdout",
     "output_type": "stream",
     "text": [
      "Media\n",
      "6.4854452054794525\n",
      "\n",
      "Valor Maximo\n",
      "14.0\n",
      "\n",
      "Valor Minimo\n",
      "2.0\n",
      "\n",
      "Rango\n",
      "12.0\n",
      "\n",
      "Desviacion Estandar\n",
      "1.6084517167387253\n"
     ]
    },
    {
     "name": "stderr",
     "output_type": "stream",
     "text": [
      "C:\\Users\\Ricar\\anaconda3\\lib\\site-packages\\seaborn\\distributions.py:2551: FutureWarning: `distplot` is a deprecated function and will be removed in a future version. Please adapt your code to use either `displot` (a figure-level function with similar flexibility) or `histplot` (an axes-level function for histograms).\n",
      "  warnings.warn(msg, FutureWarning)\n"
     ]
    },
    {
     "data": {
      "text/plain": [
       "Text(0, 0.5, '')"
      ]
     },
     "execution_count": 51,
     "metadata": {},
     "output_type": "execute_result"
    },
    {
     "data": {
      "image/png": "[encoded data removed]",
      "text/plain": [
       "<Figure size 432x288 with 1 Axes>"
      ]
     },
     "metadata": {
      "needs_background": "light"
     },
     "output_type": "display_data"
    }
   ],
   "source": [
    "print(\"Media\")\n",
    "print(np.mean(entrenamiento[:,3]))\n",
    "\n",
    "print(\"\\nValor Maximo\")\n",
    "print(np.max(entrenamiento[:,3]))\n",
    "\n",
    "print(\"\\nValor Minimo\")\n",
    "print(np.min(entrenamiento[:,3]))\n",
    "\n",
    "print(\"\\nRango\")\n",
    "print(np.ptp(entrenamiento[:,3]))\n",
    "\n",
    "print(\"\\nDesviacion Estandar\")\n",
    "print(np.std(entrenamiento[:,3]))\n",
    "sns.distplot(entrenamiento[:, 3])\n",
    "plt.title('Cuartos')\n",
    "plt.xlabel('Cuartos')\n",
    "plt.ylabel('')"
   ]
  },
  {
   "cell_type": "markdown",
   "metadata": {},
   "source": [
    "#### Year Built"
   ]
  },
  {
   "cell_type": "code",
   "execution_count": 53,
   "metadata": {},
   "outputs": [
    {
     "name": "stdout",
     "output_type": "stream",
     "text": [
      "Media\n",
      "1971.451198630137\n",
      "\n",
      "Valor Maximo\n",
      "2010.0\n",
      "\n",
      "Valor Minimo\n",
      "1875.0\n",
      "\n",
      "Rango\n",
      "135.0\n",
      "\n",
      "Desviacion Estandar\n",
      "29.93888206867768\n"
     ]
    },
    {
     "name": "stderr",
     "output_type": "stream",
     "text": [
      "C:\\Users\\Ricar\\anaconda3\\lib\\site-packages\\seaborn\\distributions.py:2551: FutureWarning: `distplot` is a deprecated function and will be removed in a future version. Please adapt your code to use either `displot` (a figure-level function with similar flexibility) or `histplot` (an axes-level function for histograms).\n",
      "  warnings.warn(msg, FutureWarning)\n"
     ]
    },
    {
     "data": {
      "text/plain": [
       "Text(0, 0.5, '')"
      ]
     },
     "execution_count": 53,
     "metadata": {},
     "output_type": "execute_result"
    },
    {
     "data": {
      "image/png": "[encoded data removed]",
      "text/plain": [
       "<Figure size 432x288 with 1 Axes>"
      ]
     },
     "metadata": {
      "needs_background": "light"
     },
     "output_type": "display_data"
    }
   ],
   "source": [
    "print(\"Media\")\n",
    "print(np.mean(entrenamiento[:,4]))\n",
    "\n",
    "print(\"\\nValor Maximo\")\n",
    "print(np.max(entrenamiento[:,4]))\n",
    "\n",
    "print(\"\\nValor Minimo\")\n",
    "print(np.min(entrenamiento[:,4]))\n",
    "\n",
    "print(\"\\nRango\")\n",
    "print(np.ptp(entrenamiento[:,4]))\n",
    "\n",
    "print(\"\\nDesviacion Estandar\")\n",
    "print(np.std(entrenamiento[:,4]))\n",
    "\n",
    "sns.distplot(entrenamiento[:, 4])\n",
    "plt.title('Fecha de construccion')\n",
    "plt.xlabel('Año')\n",
    "plt.ylabel('')"
   ]
  },
  {
   "cell_type": "markdown",
   "metadata": {},
   "source": [
    "#### Linear Feet of Street"
   ]
  },
  {
   "cell_type": "code",
   "execution_count": 54,
   "metadata": {},
   "outputs": [
    {
     "name": "stdout",
     "output_type": "stream",
     "text": [
      "Media\n",
      "69.94698544698545\n",
      "\n",
      "Valor Maximo\n",
      "313.0\n",
      "\n",
      "Valor Minimo\n",
      "21.0\n",
      "\n",
      "Rango\n",
      "292.0\n",
      "\n",
      "Desviacion Estandar\n",
      "23.4659548199304\n"
     ]
    },
    {
     "name": "stderr",
     "output_type": "stream",
     "text": [
      "C:\\Users\\Ricar\\anaconda3\\lib\\site-packages\\seaborn\\distributions.py:2551: FutureWarning: `distplot` is a deprecated function and will be removed in a future version. Please adapt your code to use either `displot` (a figure-level function with similar flexibility) or `histplot` (an axes-level function for histograms).\n",
      "  warnings.warn(msg, FutureWarning)\n"
     ]
    },
    {
     "data": {
      "text/plain": [
       "Text(0, 0.5, '')"
      ]
     },
     "execution_count": 54,
     "metadata": {},
     "output_type": "execute_result"
    },
    {
     "data": {
      "image/png": "[encoded data removed]",
      "text/plain": [
       "<Figure size 432x288 with 1 Axes>"
      ]
     },
     "metadata": {
      "needs_background": "light"
     },
     "output_type": "display_data"
    }
   ],
   "source": [
    "print(\"Media\")\n",
    "print(np.nanmean(entrenamiento[:,5]))\n",
    "\n",
    "print(\"\\nValor Maximo\")\n",
    "print(np.nanmax(entrenamiento[:,5]))\n",
    "\n",
    "print(\"\\nValor Minimo\")\n",
    "print(np.nanmin(entrenamiento[:,5]))\n",
    "\n",
    "print(\"\\nRango\")\n",
    "print(np.nanmax(entrenamiento[:,5]) - np.nanmin(entrenamiento[:,5]))\n",
    "\n",
    "print(\"\\nDesviacion Estandar\")\n",
    "print(np.nanstd(entrenamiento[:,5]))\n",
    "\n",
    "sns.distplot(entrenamiento[:, 5])\n",
    "plt.title('Pies Lineales de Calle')\n",
    "plt.xlabel('Pies')\n",
    "plt.ylabel('')"
   ]
  },
  {
   "cell_type": "markdown",
   "metadata": {},
   "source": [
    "### Medidas por variable"
   ]
  },
  {
   "cell_type": "markdown",
   "metadata": {},
   "source": [
    "### Histograma por variable"
   ]
  },
  {
   "cell_type": "markdown",
   "metadata": {},
   "source": [
    "### Coeficiente de correlacion y Scatterplot por variable"
   ]
  },
  {
   "cell_type": "markdown",
   "metadata": {},
   "source": [
    "### Eleccion de las dos variables con mas correlacion"
   ]
  },
  {
   "cell_type": "markdown",
   "metadata": {},
   "source": [
    "## Crear funcion de modelo lineal"
   ]
  },
  {
   "cell_type": "markdown",
   "metadata": {},
   "source": [
    "## Crear funcion de error"
   ]
  },
  {
   "cell_type": "code",
   "execution_count": null,
   "metadata": {},
   "outputs": [],
   "source": []
  }
 ],
 "metadata": {
  "kernelspec": {
   "display_name": "Python 3",
   "language": "python",
   "name": "python3"
  },
  "language_info": {
   "codemirror_mode": {
    "name": "ipython",
    "version": 3
   },
   "file_extension": ".py",
   "mimetype": "text/x-python",
   "name": "python",
   "nbconvert_exporter": "python",
   "pygments_lexer": "ipython3",
   "version": "3.8.5"
  }
 },
 "nbformat": 4,
 "nbformat_minor": 4
}
