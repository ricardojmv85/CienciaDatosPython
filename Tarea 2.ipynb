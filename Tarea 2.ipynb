{
 "cells": [
  {
   "cell_type": "markdown",
   "metadata": {},
   "source": [
    "# GIT"
   ]
  },
  {
   "cell_type": "markdown",
   "metadata": {},
   "source": [
    "## Introducción"
   ]
  },
  {
   "cell_type": "markdown",
   "metadata": {},
   "source": [
    "GIT es un software el cual nos ayuda a controlar y manejar las diferentes versiones por las que pasa el codigo fuente de un proyecto. A su vez nos ayuda a mantener ordenado el \"qué, cúando y quien\" modifico cada extracto de codigo de un documento, lo cual es de gran apoyo al trabajo colaborativo entre personas que participan en un proyecto.\n",
    "\n",
    "El contenido a continuación resumira en si la definición de GIT, como funciona, sus usos y algunos ejemplos, adicionalmente se introducira el tema de Magic Cells en Jupyter Notebook, lo cual nos sera util para ejemplicar algunos casos de uso del CLI de GIT."
   ]
  },
  {
   "cell_type": "markdown",
   "metadata": {},
   "source": [
    "## Resumen"
   ]
  },
  {
   "cell_type": "markdown",
   "metadata": {},
   "source": [
    "Como se ha introducido ya, GIT es un contralor de versiones de codigo, este nos ayuda a llevar control del historial de cambios que se hacen en un proyecto, especialmente en los de programacion. "
   ]
  },
  {
   "cell_type": "markdown",
   "metadata": {},
   "source": [
    "### Por qué es util?"
   ]
  },
  {
   "cell_type": "markdown",
   "metadata": {},
   "source": [
    "Git nos es util ya que nos permitira revisar y regresar a las diferentes versiones de algun documento en especifico. Git tiene la facilidad de poder incluir ademas no solamente nuestros cambios, sino tambien los cambios que los demas participantes del proyecto realicen durante el desarrollo.\n",
    "Otra cualidad por la que GIT es util es porque nos permite llevar versiones paralelas de los documentos que componen nuestro proyecto, lo cual no restringe que los cooperadores de un proyecto tengan que esperar a que los demas finalicen para aplicar sus cambios sino que pueden simultaneamente trabajar en sus cambios para en un futuro aplicar todos los cambios sin tener problemas conflictos."
   ]
  },
  {
   "cell_type": "markdown",
   "metadata": {},
   "source": [
    "### Cómo funciona?"
   ]
  },
  {
   "cell_type": "markdown",
   "metadata": {},
   "source": [
    "Ya que GIT mantiene el historial de proyectos, nos permite trabajar en paralelo en un mismo documento y por ende la colaboracion, Git orgnaniza todo un proyecto bajo estructuras de arboles, donde un proyecto en es un arbol que puede tener mas directorios debajo de el, los cuales serian sub arboles y los documentos GIT los llama blob, los cuales son archivos de Bytes. Entonces para llevar control de toda esta estructura, GIT almacena los snapshots o fotografias de como esta estructura del arbol de hasta arriba.\n",
    "\n",
    "Aqui un ejemplo de un snapshot, donde el snapshot esta compuesto por el nodo superior \"estudiantes\", dentro de este nodo tenemos 3 nodos hijos, 2 de ellos son sub arboles (sub directorios), estudiante1 y estudiante2 tienen archivos blob.\n",
    "\n",
    "estudiantes\n",
    "|\n",
    "|__ estudiante1\n",
    "|   |_ tarea1.txt\n",
    "|\n",
    "|__ estudiante2\n",
    "|   |_ tarea1.txt\n",
    "|   |_ tarea2.txt\n",
    "|\n",
    "|__ calificaciones.txt\n",
    "\n",
    "Ya que se tiene nocion de como Git almacena el estado de todos los documentos de un proyecto, se debe aclarar que este snapshot toma lugar cada vez que se confirman los cambios, en otras palabras, cuando alguien hace un \"commit\".\n",
    "\n",
    "Teniendo ya la idea de como se almacenan los documentos, pasemos a resolver como es que se almacenan todos los snapshots, es decir como Git almacena los diferentes estados por donde pasan los documentos. \n",
    "La respuesta es simple, DAG's grafos dirigidos aciclicos. Lo que quiere decir que la historia de un proyecto se representa por un grafo, el cual va creciendo con forme se hacen commits y bifurcaciones en el grafo en cuando se trabaja en parelelo, donde en un futuro se volvera a juntar todo.\n",
    "\n",
    "Una representacion visual de esto seria la siguiente:\n",
    "Definamos\n",
    "1. El 0 como un commit\n",
    "2. Las flechas < , > como la direccion de donde viene el commit, es decir su snapshot anterior.\n",
    "\n",
    "0 <-- 0 < -- 0\n",
    "       \\\n",
    "        \\ -- 0\n",
    "        \n",
    "La anterior imagen representa un  grafo donde el primero 0 es el commit inicial del proyecto, en el segundo commit vemos que se separa la linea del grafo y en el siguiente paso vemos como hay dos commits en paralelo, llevando consigo dos versiones del codigo.\n",
    "Ahora analicemos que pasara a continuación\n",
    "\n",
    "0 <-- 0 < -- 0 < ----- 0\n",
    "       \\             /\n",
    "        \\ <-- 0 <-- /\n",
    "        \n",
    "En esta ultima grafica, vemos como en el ultimo commit, se vuelve a unir el grafo, ejemplificando cuando dos versiones que se estaban trabajando en paralelo se unifican. Los cambios de cada snapshot son conbinados."
   ]
  },
  {
   "cell_type": "markdown",
   "metadata": {},
   "source": [
    "### GIT CLI"
   ]
  },
  {
   "cell_type": "markdown",
   "metadata": {},
   "source": [
    "Git provee de una interfaz de linea de comando, la cual nos permite por medio de comandos indicarle a nuestro manejador de versiones que hacer, si queremos confirmar cambios, si queremos trabajar en parelelo nuestro proyecto, si queremos aplicar cambios o mezclar dos versiones del proyecto. Al final todos estos comandos manipulan el DAG del proyecto.\n",
    "\n",
    "A continuacion veremos los comandos de Git mas basicos y lo que se utilizan con mas frecuencia. \n",
    "* ```git help ``` Nos sirve para guiarnos un poco en el uso del CLI de Git\n",
    "* ```git init``` Con este inicializamos un repositorio en el directorio del proyecto\n",
    "* ```git status``` Nos indica que blobs o archivos han sido afectados tomando como base el ultimo snapshot.\n",
    "* ```git add <nombre_archivo>``` Con este comando indicamos que queremos agregar un archivo en especifico a la area de staging.\n",
    "* ```git commit -m \"<Mensaje o Descripcion de cambios>\"``` Confirmamos los cambios de nuestro repositorio local.\n",
    "* ```git push``` Con este comando podemos enviar los commits que hayamos realizado pero que aun no se encuentren en nuestro repositorio remoto.\n",
    "* ```git pull``` Con este comando podemos obtener el ultima version remota.\n",
    "\n",
    "Para poder ejemplificar mejor estos comandos, en la parte de ejemplos se podran ver en accion."
   ]
  },
  {
   "cell_type": "markdown",
   "metadata": {},
   "source": [
    "## Ejemplos"
   ]
  },
  {
   "cell_type": "markdown",
   "metadata": {},
   "source": [
    "Para poder ejemplificar el uso de git, haremos uso de sus comandos, los cuales no pueden correr o no estan relacionados con Python como lo es este documento, pero tenemos la opcion de correr los comandos desde este notebook utilizando Magic Cells. A continuacion una breve introduccion a Magic Cells."
   ]
  },
  {
   "cell_type": "markdown",
   "metadata": {},
   "source": [
    "#### Magic Cells"
   ]
  },
  {
   "cell_type": "markdown",
   "metadata": {},
   "source": [
    "Ya que este documento, es comunmente utilizado para analitica con Python, todo lo que no es relacionado con su kernel en este caso Python y Markdown no es posible accederlo. Para nuestro beneficio existen los comandos magicos, los cuales no permite ejecutar diferentes cosas fuera del kernel de Python. Por ejemplo podemos correr comandos que comunmente ejecutariamos en nuestra consola del SO, o podemos hacer uso de funciones magicas tambien como la de **timeit** la cual nos mide el tiempo de ejecucion de una celda del notebook.\n",
    "Las funcionalidades magicas se pueden dar en diferentes enfoques, asi como los comando magicos que van identificados por un **%** al principio de la sentencia, las celda magicas las cuales indican que toda la celda del notebook contiene comandos especiales o magicos, y este enfoque se inicializa con **%%*** doble signo de porcentage. \n",
    "\n",
    "Tomando en cuenta las ventajas de correr commandos de nuestra consola de Windows en este notebook, podemos correr los comandos de git anteriormente mencionados.\n",
    "\n",
    "Como ejemplo de Git aprovecharemos que este documento estara colgado en un repositorio de GitHub, por lo que los comandos de Git sera la clave para postearlo."
   ]
  },
  {
   "cell_type": "markdown",
   "metadata": {},
   "source": [
    "1. Empezamos por crear un repositorio remoto, en este caso sera en GitHub, el nombre de mi repositorio sera CienciaDatosPython"
   ]
  },
  {
   "cell_type": "code",
   "execution_count": 2,
   "metadata": {},
   "outputs": [
    {
     "name": "stderr",
     "output_type": "stream",
     "text": [
      "Cloning into 'CienciaDatosPython'...\n"
     ]
    }
   ],
   "source": [
    "!git clone https://github.com/ricardojmv85/CienciaDatosPython.git"
   ]
  },
  {
   "cell_type": "markdown",
   "metadata": {},
   "source": [
    "2. Meteremos este notebook a la carpeta del repositorio que acabamos de clonar y chequeamos con el siguiente comando cuales son los documentos que sufrieron cambios, por logica aparecera el notebook porque lo estamos agregaron por completo."
   ]
  },
  {
   "cell_type": "code",
   "execution_count": 5,
   "metadata": {},
   "outputs": [
    {
     "name": "stdout",
     "output_type": "stream",
     "text": [
      "On branch main\n",
      "Your branch is up to date with 'origin/main'.\n",
      "\n",
      "Changes to be committed:\n",
      "  (use \"git restore --staged <file>...\" to unstage)\n",
      "\tnew file:   Tarea 2.ipynb\n",
      "\n",
      "Changes not staged for commit:\n",
      "  (use \"git add <file>...\" to update what will be committed)\n",
      "  (use \"git restore <file>...\" to discard changes in working directory)\n",
      "\tmodified:   Tarea 2.ipynb\n",
      "\n",
      "Untracked files:\n",
      "  (use \"git add <file>...\" to include in what will be committed)\n",
      "\t.ipynb_checkpoints/\n",
      "\n"
     ]
    }
   ],
   "source": [
    "!git status"
   ]
  },
  {
   "cell_type": "markdown",
   "metadata": {},
   "source": [
    "3. Agregamos nuestro cambio al area de staging para luego confirmar el cambio en nuestro repositorio local"
   ]
  },
  {
   "cell_type": "code",
   "execution_count": 6,
   "metadata": {},
   "outputs": [
    {
     "name": "stderr",
     "output_type": "stream",
     "text": [
      "warning: LF will be replaced by CRLF in Tarea 2.ipynb.\n",
      "The file will have its original line endings in your working directory\n"
     ]
    }
   ],
   "source": [
    "!git add \"Tarea 2.ipynb\""
   ]
  },
  {
   "cell_type": "markdown",
   "metadata": {},
   "source": [
    "4. Confirmamos el cambio, en este caso la adicion del notebook al repositorio"
   ]
  },
  {
   "cell_type": "code",
   "execution_count": 7,
   "metadata": {},
   "outputs": [
    {
     "name": "stdout",
     "output_type": "stream",
     "text": [
      "[main c34b113] Adicion Tarea 2\n",
      " 1 file changed, 310 insertions(+)\n",
      " create mode 100644 Tarea 2.ipynb\n"
     ]
    }
   ],
   "source": [
    "!git commit -m \"Adicion Tarea 2\""
   ]
  },
  {
   "cell_type": "markdown",
   "metadata": {},
   "source": [
    "5. Publicamos el cambio de nuestro repositorio local en el repositorio remoto en GitHub"
   ]
  },
  {
   "cell_type": "code",
   "execution_count": 8,
   "metadata": {},
   "outputs": [
    {
     "name": "stderr",
     "output_type": "stream",
     "text": [
      "To https://github.com/ricardojmv85/CienciaDatosPython.git\n",
      "   438c92d..c34b113  main -> main\n"
     ]
    }
   ],
   "source": [
    "!git push"
   ]
  },
  {
   "cell_type": "markdown",
   "metadata": {},
   "source": [
    "## Referencias"
   ]
  },
  {
   "cell_type": "markdown",
   "metadata": {},
   "source": [
    "* Version Control (Git): https://missing.csail.mit.edu/2020/version-control/\n",
    "* iPython Magic Commands: https://jakevdp.github.io/PythonDataScienceHandbook/01.03-magic-commands.html"
   ]
  }
 ],
 "metadata": {
  "kernelspec": {
   "display_name": "Python 3",
   "language": "python",
   "name": "python3"
  },
  "language_info": {
   "codemirror_mode": {
    "name": "ipython",
    "version": 3
   },
   "file_extension": ".py",
   "mimetype": "text/x-python",
   "name": "python",
   "nbconvert_exporter": "python",
   "pygments_lexer": "ipython3",
   "version": "3.8.5"
  }
 },
 "nbformat": 4,
 "nbformat_minor": 4
}
