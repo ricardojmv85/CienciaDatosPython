{
 "cells": [
  {
   "cell_type": "markdown",
   "metadata": {
    "id": "DvLVaCK8FN0q"
   },
   "source": [
    "# NumPy y algebra lineal(parte 2) \n",
    "\n",
    "Ya hemos estudiado el objeto básico en álgebra lineal: **el vector**, algunos de sus usos e interpretaciones, así como la forma de trabajar con estos en Python a través de NumPy, funciones matemáticas útiles y comunes entre otras cosas.\n",
    " \n",
    "Además mencionamos el objeto general **Tensor** y su equivalente en NumPy : **np.ndarray**.\n",
    " \n",
    "En esta parte del curso nos enfocamos en otro objeto muy importante en álgebra lineal y en ciencia de datos: **la matriz**.\n",
    " \n",
    "Muchas de las cosas que aprendimos en vectores aplican también a matrices,algunas exactamente igual, algunas con pequeñas variaciones, y algunas otras sí son específicas .De manera similar muchas cosas que aprenderemos en matrices también aplican y son consistentes en el caso mas general: **arreglos multidimensionales(o tensores matemáticamente)** de manera que podemos generalizar mucho de lo aprendido.\n",
    "\n",
    "## ¿Por que estudiamos matrices en ciencia de datos?\n",
    "\n",
    "Similar al caso de vectores, usamos matrices para almacenar y operar en colecciones de datos.\n",
    "\n",
    "Cuando estudiamos previamente vectores , lo\n",
    "s vectores representaban en la mayoría de casos 2 tipos de información:\n",
    "\n",
    "* Una única observación o entidad con múltiples características: Por ejemplo los ejemplos de distribuciones discretas de probabilidad usadas en los ejemplos de entropía,una única observación con múltiples características(la probabilidad de ocurrencia de cada valor).\n",
    "* Múltiples observaciones o entidades, con una sola característica: cuando hicimos el ejemplo de medias móviles teniamos múltiples observaciones o entidades(cada punto de datos) pero cada observación tenia una sola característica.\n",
    "\n",
    "Esto puede bastar en muchos casos, pero para la mayoría de problemas trabajaremos con  muchas observaciones que poseen más de una característica. Por lo cual necesitamos una estructura más general que nos permita hacer esto, la estructura que nos permite hacer esto es lo que conocemos en matemática como **matriz** y en programación comúnmente llamamos **arreglo bi-dimensional**.\n",
    "\n",
    "**nota**: desafortunadamente el término dimension(y su derivado :dimensional) puede llegar a ser ambiguo , por ejemplo  : un vector bi-dimensional es algo completamente diferente a un arreglo bi-dimensional ,el vector bi-dimensional es una colección de 2 elementos mientras que el arreglo bi-dimensional es una estructura tabular que requiere de 2 coordenadas(o indices) para ser accedido.\n",
    "\n",
    "## ¿Que es una matriz?\n",
    "\n",
    "Hay diversas definiciones de matriz, siendo la más común: **un arreglo bidimensional de números**. Algunas otras definiciones desde el punto de vista matemático son:\n",
    " \n",
    "* Conjunto de números distribuidos ORDENADAMENTE de forma rectangular formando filas y columnas.\n",
    "* Tabla de números ORDENADOS.\n",
    "* Colección tabular de elementos distribuidos en filas y columnas.\n",
    " \n",
    "En matemática la definición suele estar orientada e incluso limitada a números(se dice que una matriz es una colección de elementos que pueden ser sumados y multiplicados) ,en programación se extiende un poco esto y podemos trabajar en algunos casos con colecciones rectangulares de otros tipos de objetos , para efectos de ciencia de datos nos enfocamos mayormente también en matrices como:**colecciones de números organizados de manera rectangular(distribuidos en filas y columnas)**.\n",
    " \n",
    "En matemática comúnmente denotamos las matrices con letras mayúsculas, esta es una práctica que a veces adoptamos también en programación.\n",
    "\n",
    "\n",
    "<img src=\"https://ekuatio.com/wp-content/uploads/tipos-de-matrices-12.png\"/>\n",
    "\n",
    "\n",
    "\n",
    "### Dimension o tamaño de una matriz\n",
    "\n",
    "El tamaño o dimensión de una matriz nos indica cuantos elementos esta posee y cómo estos se organizan en filas y columnas, comúnmente denotamos el tamaño o dimensión como:\n",
    "$$ m x n $$\n",
    " \n",
    "* m = número de filas: comúnmente número de observaciones, entidades o eventos\n",
    "* n = número de columnas : número de características de interés o descriptivas de cada elemento.\n",
    "\n",
    "<img src=\"https://upload.wikimedia.org/wikipedia/commons/thumb/b/bb/Matrix.svg/1200px-Matrix.svg.png\">\n",
    "\n",
    "**Nota** : esto no es un estandar y pueden llegar a variar:\n",
    "* encontrarse casos donde la data este organizada por columna siendo m = número de columnas y n = número de filas.\n",
    "* En computer visión aveces se toman las posiciones en filas de abajo hacia arriba.\n",
    "### Ejemplos:\n",
    "\n",
    "* En Machine Learning para datos estructurados comunmente trabajamos con muchas observaciones llamadas \"ejemplos de entrenamiento\" donde cada ejemplo esta caracterizado por múltiples características(llamadas features en ML), para esto usamos una matriz.\n",
    "* En analisis de correlación entre variables podemos almacenar múltiples variables para múltiples observaciones.\n",
    "* En deep learnig los parametros(pesos sinapticos) de una red neuronal  son representados como matrices \n",
    "\n",
    "<img src=\"https://raw.githubusercontent.com/llealgt/Galileo_Python_DS/main/NumPy_algebra_lineal/matriz_34.png\"/>\n",
    "\n",
    "## Matriz como Tensor\n",
    "\n",
    "Tal como ya hemos mencionado, el objeto mas general en algebra lineal es el **tensor** y tanto vectores como matrices son un **tensor** , la característica que determina cuando un tensor es una matriz o un vector es el **rango del tensor**, el rango es un entero que nos indica cuantos valores necesitamos para poder acceder o especificar a un elemento dentro del tensor.\n",
    " \n",
    "* **Escalares**Tensor de rango 0, puesto que son un único elemento numérico y no pertenecen a una colección , no tiene sentido la noción de tener un número indicando su posición en una colección.\n",
    "* **Vectores**Tensor de rango 1, lo conceptualizamos como una lista de elementos por lo tanto necesitamos 1 número para especificar la posición de cierto elemento en la lista.\n",
    "* **Matriz**: tensor de rango 2, pensamos en la matriz como una colección de números organizados de forma  rectangular en filas y columnas por lo tanto para acceder o especificar un elemento de la matriz necesitamos 2 números : 1 para la fila(que comúnmente representamos con \"i\") y otro para la columna(que comúnmente representamos con \"j\") en la que se encuentra cierto elemento.\n",
    "\n",
    "## Representación o interpretación geométrica/gráfica de una matriz\n",
    "\n",
    "Tal como vimos que un vector podía tener una representación geométrica como puntos en el espacio(o flechas apuntando del origen a puntos) una matriz también interpretarse de manera geométrica o gráfica, hablaremos un poco de esto en el futuro :\n",
    "\n",
    "* **Matriz como transformación del espacio(y como función)**\n",
    "\n",
    "<img src=\"https://thumbs.gfycat.com/HealthyPerfectHaddock-max-1mb.gif\">\n",
    "\n",
    "<img src=\"https://thumbs.gfycat.com/SmartNearAmericancrocodile-max-1mb.gif\">\n",
    "\n",
    "## Matrices en NumPy\n",
    "\n",
    "En NumPy las matrices son(de manera similar a los vectores) son objetos del tipo **np.ndarray**, la diferencia es la forma en que estos estan organizados y por lo tanto ciertas características de los mismos. Para una matriz tenemos que:\n",
    " \n",
    "* **ndim**: el rango es igual a 2\n",
    "* **shape** : la forma o tamaño de la matriz es una **tupla de la forma (m,n)** con m siendo el número de filas y $n$ el número de columnas. De manera similar muchas funciones  para crear matrices utilizan como parámetro una tupla para definir la forma en la que será creada."
   ]
  },
  {
   "cell_type": "code",
   "execution_count": null,
   "metadata": {
    "id": "pSzSUce2FN0r"
   },
   "outputs": [],
   "source": [
    "## Para poder utilizar numpy debemos importar el paquete, es casi un estandar de la industria importarlo bajo el alias **\"np\"**\n",
    "import numpy as np"
   ]
  },
  {
   "cell_type": "code",
   "execution_count": null,
   "metadata": {
    "colab": {
     "base_uri": "https://localhost:8080/"
    },
    "id": "LcqTQTevFN0t",
    "outputId": "458aa0ae-8d99-4ec4-de12-6689505ccc8e"
   },
   "outputs": [
    {
     "name": "stdout",
     "output_type": "stream",
     "text": [
      "Rango del tensor: 2\n",
      "Forma o tamaño: (3, 4)\n",
      "Matriz de ceros de forma: (3, 4)\n",
      "Filas: 3\n",
      "Columnas: 4\n",
      "Matriz:\n",
      "[[0. 0. 0. 0.]\n",
      " [0. 0. 0. 0.]\n",
      " [0. 0. 0. 0.]]\n"
     ]
    }
   ],
   "source": [
    "matriz_ceros = np.zeros((3,4))\n",
    "tamaño_matriz = matriz_ceros.shape\n",
    "\n",
    "print(\"Rango del tensor:\",matriz_ceros.ndim) #rango del tensor, para matriz es 2\n",
    "print(\"Forma o tamaño:\",tamaño_matriz) # tupla representando el tamaño de la matríz\n",
    "\n",
    "print(\"Matriz de ceros de forma:\",tamaño_matriz)\n",
    "print(\"Filas:\",tamaño_matriz[0])\n",
    "print(\"Columnas:\",tamaño_matriz[1])\n",
    "print(\"Matriz:\")\n",
    "print(matriz_ceros)"
   ]
  },
  {
   "cell_type": "markdown",
   "metadata": {
    "id": "eLs_O-HaFN0w"
   },
   "source": [
    "## Visualización de datos en Python\n",
    " \n",
    "Con el conocimiento que ya poseemos para trabajar con Python y Numpy, y el conocimiento de matrices podemos empezar a estudiar un tema muy importante en ciencia de datos: **visualización de datos**.\n",
    " \n",
    "La visualización de datos es sumamente importante y tiene muchos usos, es una herramienta esencial en la fase de todo proyecto de data science conocida como **\"análisis exploratorio de datos\"**.\n",
    " \n",
    "### Análisis exploratorio de datos\n",
    " \n",
    "El análisis exploratorio de datos , tal y como su nombre indica nos permite explorar, entender, conocer y familiarizarnos con los datos,lo cual es muy recomendable en todo proyecto y se recomienda hacerlo antes de empezar a hacer pruebas de hipótesis, modelado matemático/estadístico o modelado por machine learning o cualquier otra técnica  de ciencia de datos.\n",
    "\n",
    "\n",
    "<img src=\"https://cdn-images-1.medium.com/max/1200/1*vJULpN2xQfyVsvTVW-JSkA.png\">\n",
    "\n",
    "### Otros usos\n",
    "\n",
    "Además del análisis exploratorio de datos, la visualización de los mismos es muy útil y aplicado en muchas otras áreas:\n",
    " \n",
    "* Modelación y simulación: análisis del comportamiento de una variable bajo análisis a través de simulación.\n",
    "\n",
    "<img src=\"https://risk-engineering.org/static/img/large/monte-carlo-VaR.png\">\n",
    "* Curvas de aprendizaje: durante el desarrollo de un proyecto de ML es necesario evaluar el funcionamiento de un modelo de ML y su comportamiento a través del tiempo durante el entrenamiento.\n",
    "\n",
    "<img src=\"https://3qeqpr26caki16dnhd19sv6by6v-wpengine.netdna-ssl.com/wp-content/uploads/2018/10/Line-Plot-of-Train-and-Test-Loss-During-Training-With-Simple-Early-Stopping.png\">\n",
    "* Comparar modelo de ML vs datos reales\n",
    "<img src=\"https://s3.amazonaws.com/stackabuse/media/linear-regression-python-scikit-learn-1.png\">\n",
    "* Visualización de imagenenes en proyectos de vision por computadora.\n",
    "<img src=\"https://encrypted-tbn0.gstatic.com/images?q=tbn:ANd9GcQY4FRGTsV_ugt6DyJmolPHiiaDH3lLCEaGSuh_ZN0NUjrOM_VE7Q\">\n",
    "\n",
    "\n",
    "Existen diversos paquetes para visualizacion de datos en Python,pero el mas popular, usado y conocido en la industria es: \n",
    "#### Matplotlib"
   ]
  },
  {
   "cell_type": "markdown",
   "metadata": {
    "id": "rtWiyWoYFN0w"
   },
   "source": [
    "# Instalar matplotlib desde el jupyter notebook en el ambiente actual de Anaconda\n",
    "# esto puede ser realizado de manera tradicional con linea de comandos o Anaconda Navigator\n",
    "import sys\n",
    "#!conda install --yes --prefix {sys.prefix} matplotlib\n",
    "\n",
    "# ! ejecuta un comando del sistema desde el notebook, el comando ejecutado fue:\n",
    "print(\"Comando ejecutado:conda install --yes --prefix {\"+sys.prefix+\"} matplotlib\")"
   ]
  },
  {
   "cell_type": "code",
   "execution_count": null,
   "metadata": {
    "id": "6JvOXw7VFN0x"
   },
   "outputs": [],
   "source": [
    "import matplotlib.pyplot as plt"
   ]
  },
  {
   "cell_type": "code",
   "execution_count": null,
   "metadata": {
    "colab": {
     "base_uri": "https://localhost:8080/",
     "height": 295
    },
    "id": "Q6yn4d9bFN0y",
    "outputId": "d098b2fa-ea17-45c0-f6b7-7c51c7a4c200"
   },
   "outputs": [
    {
     "data": {
      "image/png": "[encoded data removed]",
      "text/plain": [
       "<Figure size 432x288 with 1 Axes>"
      ]
     },
     "metadata": {
      "needs_background": "light",
      "tags": []
     },
     "output_type": "display_data"
    }
   ],
   "source": [
    "x = np.linspace(-2*np.pi,2*np.pi,100)\n",
    "y = np.sin(x)\n",
    "\n",
    "plt.plot(x,y)\n",
    "\n",
    "plt.xlabel('x')\n",
    "plt.ylabel('y')\n",
    "plt.title('Grafica de y = sin(x) ')\n",
    "\n",
    "\n",
    "plt.savefig('sinx.jpg')\n",
    "plt.show()"
   ]
  },
  {
   "cell_type": "markdown",
   "metadata": {
    "id": "SHiWznz6FN00"
   },
   "source": [
    "#### Matplotlib orientado a objetos\n",
    " \n",
    "El ejemplo anterior provee una forma facil y rapida de visualizar graficas sencillas con matplotlib , pero matplotlib posee un enfoque \"orientado a objetos\" que es más versátil y permite mayor personalización, por lo cual es recomendado salvo casos donde se necesita gráficas sencillas de manera rápida.\n",
    " \n",
    "##### Jerarquía de objetos en matplotlib\n",
    " \n",
    "Al trabajar matplotlib orientado a objetos ,el tipo de objeto base es el tipo **plt.figure()**(https://matplotlib.org/api/_as_gen/matplotlib.pyplot.figure.html) el cual podemos conceptualizar como el canvas sobre el cual agregaremos contenido .\n",
    " \n",
    "Sobre un objeto **plt.figure()** podemos crear uno o muchos objetos tipo **axes.Axes()** (https://matplotlib.org/api/axes_api.html#matplotlib.axes.Axes), una instancia de Axes() corresponde a una gráfica como la vista en el ejemplo anterior, por lo cual agregar a un \"figure\" varios \"Axes\" significa crear una colección de gráficas sobre una misma figura.\n",
    " \n",
    "El siguiente ejemplo genera la misma gráfica que en el caso anterior ,pero usando matplotlib orientado a objetos."
   ]
  },
  {
   "cell_type": "code",
   "execution_count": null,
   "metadata": {
    "colab": {
     "base_uri": "https://localhost:8080/",
     "height": 295
    },
    "id": "2EZCElllFN01",
    "outputId": "4bb79d1e-fa52-4442-f568-11ea234640a0"
   },
   "outputs": [
    {
     "data": {
      "image/png": "[encoded data removed]",
      "text/plain": [
       "<Figure size 432x288 with 1 Axes>"
      ]
     },
     "metadata": {
      "needs_background": "light",
      "tags": []
     },
     "output_type": "display_data"
    }
   ],
   "source": [
    "%matplotlib inline\n",
    "fig = plt.figure()\n",
    "ax = fig.add_subplot(1,1,1) #creamos un canvas con  1 fila, 1 columna y devolvemos una referencia a la primera grafica\n",
    "#ax = fig.add_subplot(111) \n",
    "\n",
    "ax.plot(x,y)\n",
    "\n",
    "ax.set_xlabel('x')\n",
    "ax.set_ylabel('y')\n",
    "ax.set_title('Grafica de y = sin(x)')\n",
    "\n",
    "plt.show()"
   ]
  },
  {
   "cell_type": "markdown",
   "metadata": {
    "id": "7nsFQBr7FN03"
   },
   "source": [
    "El siguiente ejemplo consiste en un figure con 4 graficas(Axes)"
   ]
  },
  {
   "cell_type": "code",
   "execution_count": null,
   "metadata": {
    "colab": {
     "base_uri": "https://localhost:8080/",
     "height": 265
    },
    "id": "WEMqHy9LFN03",
    "outputId": "afd90456-b1c2-430a-d713-57d6a6b4b3c5"
   },
   "outputs": [
    {
     "data": {
      "image/png": "[encoded data removed]",
      "text/plain": [
       "<Figure size 432x288 with 4 Axes>"
      ]
     },
     "metadata": {
      "needs_background": "light",
      "tags": []
     },
     "output_type": "display_data"
    }
   ],
   "source": [
    "fig  = plt.figure()\n",
    "\n",
    "# el figure tendra 4 graficas organizadas en 2 filas y 2 columnas\n",
    "ax1 = fig.add_subplot(2,2,1) #221\n",
    "ax2 = fig.add_subplot(2,2,2) #222\n",
    "ax3 = fig.add_subplot(2,2,3)  # 223\n",
    "ax4 = fig.add_subplot(2,2,4) # 224\n",
    "\n",
    "ax1.plot(x,x)\n",
    "ax2.plot(x,np.sin(x))\n",
    "ax3.plot(x,np.cos(x))\n",
    "ax4.plot(x,np.exp(x))\n",
    "\n",
    "plt.show()"
   ]
  },
  {
   "cell_type": "markdown",
   "metadata": {
    "id": "CCHQvZF9FN06"
   },
   "source": [
    "#### Estilo de curvas\n",
    " \n",
    "Matplotlib provee múltiples formas de dar estilo a las gráficas y es ampliamente configurable y adaptable,  por esta misma razón la documentación es amplia por lo cual se recomienda consultarla como referencia constantemente al estar trabajando con visualización de datos.\n",
    " \n",
    "Algunas de las características  del estilo de curvas que mas comunmente se configuran y personalizan son:\n",
    " \n",
    "* Color: comúnmente se trabaja con la primera letra ,por ejemplo:\n",
    "   * r = rojo\n",
    "   * b = azul(color default)\n",
    "   * g = verde\n",
    "   * y = amarillo\n",
    " \n",
    "* Estilo de linea: usado para definir si la gráfica consistirá en  lineas solidas,  o discontinuas, algunos tipos son:\n",
    "   * -  :linea solida, el tipo default\n",
    "   * -- :linea discontinua\n",
    "   * -. :curva discontinua formada por líneas y puntos.\n",
    "* Grosor de linea"
   ]
  },
  {
   "cell_type": "code",
   "execution_count": null,
   "metadata": {
    "colab": {
     "base_uri": "https://localhost:8080/",
     "height": 295
    },
    "id": "vcERgZF-FN07",
    "outputId": "f4269798-112f-4bf5-a47b-4583070ad9df"
   },
   "outputs": [
    {
     "data": {
      "image/png": "[encoded data removed]",
      "text/plain": [
       "<Figure size 432x288 with 1 Axes>"
      ]
     },
     "metadata": {
      "needs_background": "light",
      "tags": []
     },
     "output_type": "display_data"
    }
   ],
   "source": [
    "fig = plt.figure()\n",
    "ax = fig.add_subplot(1,1,1) #creamos un canvas con  1 fila, 1 columna y devolvemos una referencia a la primera grafica\n",
    "#ax = fig.add_subplot(111) \n",
    "\n",
    "ax.plot(x, np.exp(x) ,color=\"g\") # tambien se pudo usar \"green\" en lugar de el abreviado \"g\"\n",
    "\n",
    "ax.set_xlabel('x')\n",
    "ax.set_ylabel('y')\n",
    "ax.set_title('Grafica de y = exp(x)')\n",
    "\n",
    "plt.show()"
   ]
  },
  {
   "cell_type": "markdown",
   "metadata": {
    "id": "KrxR6GMlFN08"
   },
   "source": [
    "La forma mas comun de trabajar con el estilo de curvas es crear un \"string\" con la configuración deseada, por ejemplo el string \"r-.\" produce luna gráfica roja con una linea que consiste en -. en cada punto."
   ]
  },
  {
   "cell_type": "code",
   "execution_count": null,
   "metadata": {
    "colab": {
     "base_uri": "https://localhost:8080/",
     "height": 295
    },
    "id": "0iEYl-JXFN09",
    "outputId": "9f413c01-e880-4854-8c3c-7f47fe546aa8"
   },
   "outputs": [
    {
     "data": {
      "image/png": "[encoded data removed]",
      "text/plain": [
       "<Figure size 432x288 with 1 Axes>"
      ]
     },
     "metadata": {
      "needs_background": "light",
      "tags": []
     },
     "output_type": "display_data"
    }
   ],
   "source": [
    "fig = plt.figure()\n",
    "ax = fig.add_subplot(1,1,1) #creamos un canvas con  1 fila, 1 columna y devolvemos una referencia a la primera grafica\n",
    "#ax = fig.add_subplot(111) \n",
    "\n",
    "ax.plot(x, np.exp(x) ,\"r-.\") \n",
    "\n",
    "ax.set_xlabel('x')\n",
    "ax.set_ylabel('y')\n",
    "ax.set_title('Grafica de y = exp(x)')\n",
    "\n",
    "plt.show()"
   ]
  },
  {
   "cell_type": "markdown",
   "metadata": {
    "id": "0R8b0aMZFN0-"
   },
   "source": [
    "Podemos cambiar el grosor de linea agregando un parametro adicional linewidth o lw:"
   ]
  },
  {
   "cell_type": "code",
   "execution_count": null,
   "metadata": {
    "colab": {
     "base_uri": "https://localhost:8080/",
     "height": 295
    },
    "id": "kC7CwGPeFN0_",
    "outputId": "0d7f0bde-cfeb-4fbc-9d92-ef32b846be69"
   },
   "outputs": [
    {
     "data": {
      "image/png": "[encoded data removed]",
      "text/plain": [
       "<Figure size 432x288 with 1 Axes>"
      ]
     },
     "metadata": {
      "needs_background": "light",
      "tags": []
     },
     "output_type": "display_data"
    }
   ],
   "source": [
    "fig = plt.figure()\n",
    "ax = fig.add_subplot(1,1,1) #creamos un canvas con  1 fila, 1 columna y devolvemos una referencia a la primera grafica\n",
    "#ax = fig.add_subplot(111) \n",
    "\n",
    "ax.plot(x, np.exp(x) ,\"y--\",linewidth=4)  #\n",
    "#ax.plot(x, np.exp(x) ,\"y:\",lw=4) \n",
    "\n",
    "ax.set_xlabel('x')\n",
    "ax.set_ylabel('y')\n",
    "ax.set_title('Grafica de y = exp(x)')\n",
    "\n",
    "plt.show()"
   ]
  },
  {
   "cell_type": "code",
   "execution_count": null,
   "metadata": {
    "colab": {
     "base_uri": "https://localhost:8080/",
     "height": 295
    },
    "id": "1ry_MPieFN1A",
    "outputId": "82fc92f5-e8c6-4b4c-fde4-d183c1c5ee6b"
   },
   "outputs": [
    {
     "data": {
      "image/png": "[encoded data removed]",
      "text/plain": [
       "<Figure size 432x288 with 1 Axes>"
      ]
     },
     "metadata": {
      "needs_background": "light",
      "tags": []
     },
     "output_type": "display_data"
    }
   ],
   "source": [
    "fig = plt.figure()\n",
    "ax = fig.add_subplot(1,1,1) #creamos un canvas con  1 fila, 1 columna y devolvemos una referencia a la primera grafica\n",
    "#ax = fig.add_subplot(111) \n",
    "\n",
    "ax.plot(x, np.exp(x) ,\"m--\",linewidth=2)  #\n",
    "#ax.plot(x, np.exp(x) ,\"y:\",lw=4) \n",
    "\n",
    "ax.set_xlabel('x')\n",
    "ax.set_ylabel('y')\n",
    "ax.set_title('Grafica de y = exp(x)')\n",
    "\n",
    "plt.show()"
   ]
  },
  {
   "cell_type": "markdown",
   "metadata": {
    "id": "DfS6w8U1FN1C"
   },
   "source": [
    "#### Scatterplots\n",
    "\n",
    "En todos los ejemplos anteriores hemos usado la función \"plot\", esta es común para graficar funciones matemáticas y en casos donde necesitamos que  todos los puntos en la gráfica estén conectados, en casos donde deseamos graficar únicamente los datos sin líneas que conecten punto con punto, algo muy común en data science cuando se poseen datos pero no se conoce el modelo o función matemática que los relaciona(por ejemplo en la fase de análisis exploratorio), para eso usamos la función **\"scatter\"**"
   ]
  },
  {
   "cell_type": "markdown",
   "metadata": {
    "id": "Hi6ZQIl7asWz"
   },
   "source": [
    "```\n",
    "import numpy as np\n",
    "\n",
    "a = np.array([1,2,3,4])\n",
    "\n",
    "print(a.ndim)\n",
    "print(len(a))\n",
    "print(a.shape)\n",
    "```"
   ]
  },
  {
   "cell_type": "code",
   "execution_count": null,
   "metadata": {
    "colab": {
     "base_uri": "https://localhost:8080/",
     "height": 295
    },
    "id": "y0G-0CkvFN1C",
    "outputId": "0a4a159d-3799-4486-d4a7-fcc806b5095d"
   },
   "outputs": [
    {
     "data": {
      "image/png": "[encoded data removed]",
      "text/plain": [
       "<Figure size 432x288 with 1 Axes>"
      ]
     },
     "metadata": {
      "needs_background": "light",
      "tags": []
     },
     "output_type": "display_data"
    }
   ],
   "source": [
    "x = np.array([1,2,3,4,5])\n",
    "y = np.array([2.6,3.9,6.25,7.6,11])\n",
    "\n",
    "fig = plt.figure()\n",
    "ax = fig.add_subplot(1,1,1) #creamos un canvas con  1 fila, 1 columna y devolvemos una referencia a la primera grafica\n",
    "#ax = fig.add_subplot(111) \n",
    "\n",
    "ax.scatter(x, y,marker=\"\",color=\"g\")  # experimentar con los siguientes markers o', 'v', '^', '<', '>', '8', 's', 'p', '*', 'h', 'H', 'D', 'd', 'P', 'X'#\n",
    "#ax.scatter(x, y,color=\"g\")  # experimentar con los siguientes markers o', 'v', '^', '<', '>', '8', 's', 'p', '*', 'h', 'H', 'D', 'd', 'P', 'X'\n",
    "\n",
    "ax.set_xlabel('x')\n",
    "ax.set_ylabel('y')\n",
    "ax.set_title('Scatterplot python')\n",
    "\n",
    "plt.show()"
   ]
  },
  {
   "cell_type": "code",
   "execution_count": null,
   "metadata": {
    "colab": {
     "base_uri": "https://localhost:8080/",
     "height": 295
    },
    "id": "_ecRmPxY0QHZ",
    "outputId": "db05dcf5-b402-4e38-ea16-85ccd87ec7e1"
   },
   "outputs": [
    {
     "data": {
      "image/png": "[encoded data removed]",
      "text/plain": [
       "<Figure size 432x288 with 1 Axes>"
      ]
     },
     "metadata": {
      "needs_background": "light",
      "tags": []
     },
     "output_type": "display_data"
    }
   ],
   "source": [
    "x = np.array([1,2,3,4,5])\n",
    "y = np.array([2.6,3.9,6.25,7.6,11])\n",
    "\n",
    "fig = plt.figure()\n",
    "ax = fig.add_subplot(1,1,1) #creamos un canvas con  1 fila, 1 columna y devolvemos una referencia a la primera grafica\n",
    "#ax = fig.add_subplot(111) \n",
    "\n",
    "ax.scatter(x, y,marker=\"*\",color=\"g\")  # experimentar con los siguientes markers o', 'v', '^', '<', '>', '8', 's', 'p', '*', 'h', 'H', 'D', 'd', 'P', 'X'#\n",
    "#ax.scatter(x, y,color=\"g\")  # experimentar con los siguientes markers o', 'v', '^', '<', '>', '8', 's', 'p', '*', 'h', 'H', 'D', 'd', 'P', 'X'\n",
    "\n",
    "ax.set_xlabel('x')\n",
    "ax.set_ylabel('y')\n",
    "ax.set_title('Scatterplot python')\n",
    "\n",
    "plt.show()"
   ]
  },
  {
   "cell_type": "markdown",
   "metadata": {
    "id": "TB3wzDi5FN1P"
   },
   "source": [
    "### Constructores de matrices\n",
    "\n",
    "NumPy provee diversas funciones para crear matrices , algunas de las cuales ya vimos cuando estudiamos vectores , la diferencia consiste en que ahora ya no usamos un número para indicar el tamaño de un vector, si no una **tupla** de 2 elementos: (m,n) . Algunas de las funciones  que aplican tanto a vectores como a matrices son:\n",
    "\n",
    "* np.array: crear una matriz a partir de una lista de listas: cada fila es una sublista\n",
    "* np.zeros: crear una matriz de ceros\n",
    "* np.ones: crear una matriz de unos\n",
    "* np.empty: crear una matriz sin importarnos sus valores\n",
    "* np.full: crear una matriz  con cierto valor\n",
    "* np.copy: crea un clon o copia de cierta matriz\n",
    "\n",
    "Algunas funciones específicas de matrices son:\n",
    "\n",
    "* np.matrix: resultado casi idéntico a la función más general np.array, pero posee algunas propiedades adicionales específicas de listas, por ejemplo notación sencilla para inversas de matrices.\n",
    "* np.eye: crear una matriz con 1s en su diagonal principal y ceros en el resto\n",
    "* np.identity : crear una matriz identidad\n",
    "\n",
    "Algunas funciones que solo aplican a vectores y no a matrices son:\n",
    "\n",
    "* np.arange\n",
    "* np.linspace\n",
    "\n",
    "Existen otras pero estas son posiblemente las mas comunes. Puedes consultar las otras disponibles en: https://docs.scipy.org/doc/numpy/reference/routines.array-creation.html\n",
    "\n",
    "**Ejercicio**: Investigar y ejemplificar diferencias entre np.array y np.matrix"
   ]
  },
  {
   "cell_type": "markdown",
   "metadata": {},
   "source": [
    "Los arrays y las matrices en numpy al final son clases como todo en python, np.matrix es una clase que se deriva de un array de numpy. Los arrays de numpy son una clase que permite matrices multidimensionales, mientras que np.matrix es una subclase de np.array donde heredaa los metodos como la multiplicaciones matricial, la transpuesta, etc, pero la diferencia cae en que np.matrix la clase limita a que el objeto sea solo de dos dimensiones y no multidimensional como un np.array.\n",
    "\n",
    "Ejemplificando el caso digamos que tenemos las siguientes estructuras (matrices)\n",
    "\n",
    "ejemplo1 = [1, 2, 3, 4]\n",
    "\n",
    "Aqui contamos con una lista que bien puede ser un np.array pero no un np.matrix pues solo contiene una dimension.\n",
    "\n",
    "ejemplo2 = [[1, 2, 3, 4, 5],\n",
    "           [6, 7, 8, 9, 10]]\n",
    "           \n",
    "En este caso contamos con un np.array y con una np.matrix pues contamos con una estructura de dos dimensiones 2x5\n",
    "           \n",
    "ejemplo3 = [[[1, 2], [3, 4]],\n",
    "            [[5, 6], [7, 8]]]\n",
    "            \n",
    "Como ultimo ejemplo contamos con un np.array pues esta estructura contiene 3 dimenesiones 2x2x2, lo que legalmente no lo hace una np.matriz es que no tiene 2 dimensiones, pero si un np.arary porque este admite n dimensiones."
   ]
  },
  {
   "cell_type": "code",
   "execution_count": null,
   "metadata": {
    "colab": {
     "base_uri": "https://localhost:8080/"
    },
    "id": "TtRsj2SyFN1P",
    "outputId": "2a3bdf90-18d0-4b3f-f2e5-bd27eb56d006"
   },
   "outputs": [
    {
     "name": "stdout",
     "output_type": "stream",
     "text": [
      "Rango del tensor: 2\n",
      "Forma o tamaño: (3, 3)\n",
      "Matriz de ceros de forma: (3, 3)\n",
      "Filas: 3\n",
      "Columnas: 3\n",
      "Matriz:\n",
      "[[-1  2  3]\n",
      " [-2  0  1]\n",
      " [ 0 -1 -1]]\n",
      "Matriz Inversa:\n",
      "[[ 1. -1.  2.]\n",
      " [-2.  1. -5.]\n",
      " [ 2. -1.  4.]]\n"
     ]
    }
   ],
   "source": [
    "matriz_1 = np.matrix([[-1,2,3],\n",
    "                      [-2,0,1],\n",
    "                      [0,-1,-1]])\n",
    "\n",
    "tamaño_matriz = matriz_1.shape\n",
    "\n",
    "print(\"Rango del tensor:\",matriz_1.ndim) #rango del tensor, para matriz es 2\n",
    "print(\"Forma o tamaño:\",tamaño_matriz) # tupla representando el tamaño de la matríz\n",
    "\n",
    "print(\"Matriz de ceros de forma:\",tamaño_matriz)\n",
    "print(\"Filas:\",tamaño_matriz[0])\n",
    "print(\"Columnas:\",tamaño_matriz[1])\n",
    "print(\"Matriz:\")\n",
    "print(matriz_1)\n",
    "print(\"Matriz Inversa:\")\n",
    "print(matriz_1.I)"
   ]
  },
  {
   "cell_type": "code",
   "execution_count": null,
   "metadata": {
    "colab": {
     "base_uri": "https://localhost:8080/"
    },
    "id": "618koC7SFN1R",
    "outputId": "ebf6f16d-8137-4206-f520-9e444d8e3823"
   },
   "outputs": [
    {
     "name": "stdout",
     "output_type": "stream",
     "text": [
      "Rango del tensor: 2\n",
      "Forma o tamaño: (2, 3)\n",
      "Matriz de ceros de forma: (2, 3)\n",
      "Filas: 2\n",
      "Columnas: 3\n",
      "Matriz:\n",
      "[[ 2.  4.  6.]\n",
      " [ 8. 10. 12.]]\n"
     ]
    }
   ],
   "source": [
    "matriz_vacia = np.empty((2,3))\n",
    "\n",
    "tamaño_matriz = matriz_vacia.shape\n",
    "\n",
    "print(\"Rango del tensor:\",matriz_vacia.ndim) #rango del tensor, para matriz es 2\n",
    "print(\"Forma o tamaño:\",tamaño_matriz) # tupla representando el tamaño de la matríz\n",
    "\n",
    "print(\"Matriz de ceros de forma:\",tamaño_matriz)\n",
    "print(\"Filas:\",tamaño_matriz[0])\n",
    "print(\"Columnas:\",tamaño_matriz[1])\n",
    "print(\"Matriz:\")\n",
    "print(matriz_vacia)"
   ]
  },
  {
   "cell_type": "code",
   "execution_count": null,
   "metadata": {
    "colab": {
     "base_uri": "https://localhost:8080/"
    },
    "id": "n6bknNjkFN1S",
    "outputId": "3759874c-5f28-4e7f-bc5c-76a306467ae6"
   },
   "outputs": [
    {
     "name": "stdout",
     "output_type": "stream",
     "text": [
      "Rango del tensor: 2\n",
      "Forma o tamaño: (4, 5)\n",
      "Matriz de ceros de forma: (4, 5)\n",
      "Filas: 4\n",
      "Columnas: 5\n",
      "Matriz:\n",
      "[[8 8 8 8 8]\n",
      " [8 8 8 8 8]\n",
      " [8 8 8 8 8]\n",
      " [8 8 8 8 8]]\n"
     ]
    }
   ],
   "source": [
    "matriz_ochos = np.full((4,5),8)\n",
    "\n",
    "tamaño_matriz = matriz_ochos.shape\n",
    "\n",
    "print(\"Rango del tensor:\",matriz_ochos.ndim) #rango del tensor, para matriz es 2\n",
    "print(\"Forma o tamaño:\",tamaño_matriz) # tupla representando el tamaño de la matríz\n",
    "\n",
    "print(\"Matriz de ceros de forma:\",tamaño_matriz)\n",
    "print(\"Filas:\",tamaño_matriz[0])\n",
    "print(\"Columnas:\",tamaño_matriz[1])\n",
    "print(\"Matriz:\")\n",
    "print(matriz_ochos)"
   ]
  },
  {
   "cell_type": "code",
   "execution_count": null,
   "metadata": {
    "colab": {
     "base_uri": "https://localhost:8080/"
    },
    "id": "uCC-DCqkFN1X",
    "outputId": "d2018a61-1a4b-44e5-edd9-e5ead760841b"
   },
   "outputs": [
    {
     "data": {
      "text/plain": [
       "array([-6.25, -6.  ,  0.  ,  4.  ])"
      ]
     },
     "execution_count": 16,
     "metadata": {
      "tags": []
     },
     "output_type": "execute_result"
    }
   ],
   "source": [
    "np.empty(4)  # el valor varia, experimentemos cambiando el tipo con ndtype = <tipo>"
   ]
  },
  {
   "cell_type": "code",
   "execution_count": null,
   "metadata": {
    "colab": {
     "base_uri": "https://localhost:8080/"
    },
    "id": "vJy6ASQUFN1Z",
    "outputId": "72616480-6bd1-469e-f2a5-e65a6a4e374f"
   },
   "outputs": [
    {
     "name": "stdout",
     "output_type": "stream",
     "text": [
      "[[8 8 8 8 8]\n",
      " [8 8 8 8 8]\n",
      " [8 8 8 8 8]\n",
      " [8 8 8 8 8]]\n"
     ]
    }
   ],
   "source": [
    "replica_matriz_ochos = np.copy(matriz_ochos)\n",
    "\n",
    "print(replica_matriz_ochos)"
   ]
  },
  {
   "cell_type": "markdown",
   "metadata": {
    "id": "psQCZDfQFN1a"
   },
   "source": [
    "**Construir matriz como otra matriz**\n",
    "\n",
    "Similar al caso de vectores, existen algunas funciones que nos permiten crear matrices \"como\" otras matrices, es decir de la misma forma pero con posibles diferentes valores:\n"
   ]
  },
  {
   "cell_type": "code",
   "execution_count": null,
   "metadata": {
    "colab": {
     "base_uri": "https://localhost:8080/"
    },
    "id": "mjvyuDeZFN1b",
    "outputId": "2dca14ad-eb34-4dcc-d6dd-ad5cc3480df0"
   },
   "outputs": [
    {
     "name": "stdout",
     "output_type": "stream",
     "text": [
      "[[9 9 9 9]\n",
      " [9 9 9 9]\n",
      " [9 9 9 9]\n",
      " [9 9 9 9]]\n",
      "[[0 0 0 0]\n",
      " [0 0 0 0]\n",
      " [0 0 0 0]\n",
      " [0 0 0 0]]\n",
      "[[1 1 1 1]\n",
      " [1 1 1 1]\n",
      " [1 1 1 1]\n",
      " [1 1 1 1]]\n",
      "[[      94475628812032  1819513623404378884 -8717278869037512445\n",
      "    144408465836085518]\n",
      " [ 5047136642369716232  3597518701923667988  1291623749228703488\n",
      "  -3524804806328117486]\n",
      " [ 1234849420382634517  2526823982018274868  1599396898099507985\n",
      "  -5067511118797708284]\n",
      " [-6628517167330278727 -6575643997526401795 -1196719801364084739\n",
      "                     0]]\n"
     ]
    }
   ],
   "source": [
    "matriz_nueves = np.full((4,4),9)\n",
    "\n",
    "ceros = np.zeros_like(matriz_nueves) # np.zeros(matriz_nueves.shape)\n",
    "unos = np.ones_like(matriz_nueves)\n",
    "vacio = np.empty_like(matriz_nueves)\n",
    "\n",
    "print(matriz_nueves)\n",
    "print(ceros)\n",
    "print(unos)\n",
    "print(vacio)"
   ]
  },
  {
   "cell_type": "markdown",
   "metadata": {
    "id": "TUT45lpnFN1c"
   },
   "source": [
    "En otros casos algunas funciones tambien devuelven un array  A de la misma forma de otro B pero con el resultado de aplicar alguna función a este, por ejemplo, el siguiente caso devuelve un nuevo vector con la forma de un vector \"x\" resultado de calcular el seno trigonoḿetrico sobre cada uno de sus elementos.:"
   ]
  },
  {
   "cell_type": "code",
   "execution_count": null,
   "metadata": {
    "colab": {
     "base_uri": "https://localhost:8080/"
    },
    "id": "Dxvom1H9FN1d",
    "outputId": "bdcad3af-de6d-4244-d9c2-5e1a3a623c76"
   },
   "outputs": [
    {
     "name": "stdout",
     "output_type": "stream",
     "text": [
      "[[0. 0. 0. 0.]\n",
      " [0. 0. 0. 0.]\n",
      " [0. 0. 0. 0.]\n",
      " [0. 0. 0. 0.]]\n",
      "[[0.84147098 0.84147098 0.84147098 0.84147098]\n",
      " [0.84147098 0.84147098 0.84147098 0.84147098]\n",
      " [0.84147098 0.84147098 0.84147098 0.84147098]\n",
      " [0.84147098 0.84147098 0.84147098 0.84147098]]\n",
      "[[2.71828183 2.71828183 2.71828183 2.71828183]\n",
      " [2.71828183 2.71828183 2.71828183 2.71828183]\n",
      " [2.71828183 2.71828183 2.71828183 2.71828183]\n",
      " [2.71828183 2.71828183 2.71828183 2.71828183]]\n"
     ]
    }
   ],
   "source": [
    "print(np.sin(ceros))\n",
    "print(np.sin(unos))\n",
    "print(np.exp(unos))"
   ]
  },
  {
   "cell_type": "markdown",
   "metadata": {
    "id": "RXJ-1PyxFN1e"
   },
   "source": [
    "**Construir un grid** \n",
    "\n",
    "En algunos casos es útil y/o necesario construir un \"grid\" que representa las coordenadas en el plano x,y que sobre las que luego evaluaremos cierta función esto es usado por ejemplo en machine learning para buscar hiper-parametros o visualizar la función de costo respecto de una linea recta respecto de sus parametros.\n",
    "\n",
    "Para el siguiente ejemplo buscamos crear la matriz que contiene el grid de coordenadas para la función:\n",
    "\n",
    "$$z = x^{2} + y^{2}$$\n",
    "\n",
    "<img src=\"http://3.bp.blogspot.com/-sxwhjwdjdao/UW2GAHeFbbI/AAAAAAAAAas/nu2PqSLDHF0/s1600/g4.jpg\">\n",
    "\n"
   ]
  },
  {
   "cell_type": "code",
   "execution_count": null,
   "metadata": {
    "colab": {
     "base_uri": "https://localhost:8080/"
    },
    "id": "rO5ErgfJFN1f",
    "outputId": "0c7839be-ea23-496b-f005-a95bafef803c"
   },
   "outputs": [
    {
     "name": "stdout",
     "output_type": "stream",
     "text": [
      "[[200.         192.00333195 184.33985839 ... 184.33985839 192.00333195\n",
      "  200.        ]\n",
      " [192.00333195 184.00666389 176.34319034 ... 176.34319034 184.00666389\n",
      "  192.00333195]\n",
      " [184.33985839 176.34319034 168.67971678 ... 168.67971678 176.34319034\n",
      "  184.33985839]\n",
      " ...\n",
      " [184.33985839 176.34319034 168.67971678 ... 168.67971678 176.34319034\n",
      "  184.33985839]\n",
      " [192.00333195 184.00666389 176.34319034 ... 176.34319034 184.00666389\n",
      "  192.00333195]\n",
      " [200.         192.00333195 184.33985839 ... 184.33985839 192.00333195\n",
      "  200.        ]]\n"
     ]
    }
   ],
   "source": [
    "xv = np.linspace(-10,10,50)\n",
    "yv = np.linspace(-10,10,50)\n",
    "\n",
    "# creamos el grid con las coordenadas en el plano x,y\n",
    "xx,yy = np.meshgrid(xv,yv)\n",
    "\n",
    "# calculamos el valor de evaluar la función z = f(x,y) sobre las coordenadas en el plano\n",
    "z = xx**2 + yy**2\n",
    "\n",
    "# imprimimos la matriz resultado de calcular f(x,y), \n",
    "#cuando estudiemos visualización de datos esta matriz sería graficada\n",
    "print(z)"
   ]
  },
  {
   "cell_type": "code",
   "execution_count": null,
   "metadata": {
    "colab": {
     "base_uri": "https://localhost:8080/",
     "height": 269
    },
    "id": "bl7bZd7AFN1g",
    "outputId": "38bbe9e8-f8b7-494c-d573-3ca8822b6a72"
   },
   "outputs": [
    {
     "data": {
      "image/png": "[encoded data removed]",
      "text/plain": [
       "<Figure size 432x288 with 1 Axes>"
      ]
     },
     "metadata": {
      "needs_background": "light",
      "tags": []
     },
     "output_type": "display_data"
    }
   ],
   "source": [
    "plt.contourf(xx,yy,z)\n",
    "plt.show()"
   ]
  },
  {
   "cell_type": "markdown",
   "metadata": {
    "id": "n4JW-pVdFN1i"
   },
   "source": [
    "**Construir matriz luego de redimensionar otro Tensor**\n",
    "\n",
    "En muchos casos necesitamos crear una matriz luego de redimensionar otro Tensor(un vector u otra matriz),es decir cambiar su forma, esto es algo común en DS y lo logramos a partir de la función **np.reshape**"
   ]
  },
  {
   "cell_type": "code",
   "execution_count": null,
   "metadata": {
    "colab": {
     "base_uri": "https://localhost:8080/"
    },
    "id": "n6WuKjfPFN1i",
    "outputId": "491fe929-9a4e-425b-dfd0-0f2a8983e65d"
   },
   "outputs": [
    {
     "name": "stdout",
     "output_type": "stream",
     "text": [
      "Vector: [0 1 2 3 4 5 6 7 8 9]\n",
      "Matriz:\n",
      "[[0 1 2 3 4]\n",
      " [5 6 7 8 9]]\n"
     ]
    }
   ],
   "source": [
    "vector = np.arange(10)\n",
    "\n",
    "matriz = np.reshape(vector,(2,5))\n",
    "\n",
    "print(\"Vector:\",vector)\n",
    "print(\"Matriz:\")\n",
    "print(matriz)"
   ]
  },
  {
   "cell_type": "code",
   "execution_count": null,
   "metadata": {
    "colab": {
     "base_uri": "https://localhost:8080/"
    },
    "id": "YW3KQTmYFN1k",
    "outputId": "a3fed687-ae5c-47c4-ad88-603c4398bc8e"
   },
   "outputs": [
    {
     "name": "stdout",
     "output_type": "stream",
     "text": [
      "Vector: [0 1 2 3 4 5 6 7 8 9]\n",
      "Matriz:\n",
      "[[0 1]\n",
      " [2 3]\n",
      " [4 5]\n",
      " [6 7]\n",
      " [8 9]]\n"
     ]
    }
   ],
   "source": [
    "vector = np.arange(10)\n",
    "\n",
    "matriz = np.reshape(vector,(5,2))\n",
    "\n",
    "print(\"Vector:\",vector)\n",
    "print(\"Matriz:\")\n",
    "print(matriz)"
   ]
  },
  {
   "cell_type": "code",
   "execution_count": null,
   "metadata": {
    "colab": {
     "base_uri": "https://localhost:8080/"
    },
    "id": "NnLYZKGmFN1l",
    "outputId": "5f267d14-6431-42b5-dcdb-0fb5c89c33c2"
   },
   "outputs": [
    {
     "name": "stdout",
     "output_type": "stream",
     "text": [
      "[[ 0  1  2  3]\n",
      " [ 4  5  6  7]\n",
      " [ 8  9 10 11]\n",
      " [12 13 14 15]\n",
      " [16 17 18 19]]\n"
     ]
    }
   ],
   "source": [
    "matriz = np.reshape(np.arange(20),(5,4))\n",
    "\n",
    "print(matriz)"
   ]
  },
  {
   "cell_type": "code",
   "execution_count": null,
   "metadata": {
    "colab": {
     "base_uri": "https://localhost:8080/"
    },
    "id": "FFtzMOaSFN1m",
    "outputId": "5d43dd7c-1e85-40fd-e3cb-3fa2b94146ee"
   },
   "outputs": [
    {
     "name": "stdout",
     "output_type": "stream",
     "text": [
      "[[ 0  1  2  3  4]\n",
      " [ 5  6  7  8  9]\n",
      " [10 11 12 13 14]\n",
      " [15 16 17 18 19]]\n"
     ]
    }
   ],
   "source": [
    "matriz_reshaped = np.reshape(matriz,(4,5))\n",
    "\n",
    "print(matriz_reshaped)"
   ]
  },
  {
   "cell_type": "markdown",
   "metadata": {
    "id": "WdMb8jM8FN1o"
   },
   "source": [
    "**Contruir matriz identidad**\n",
    "\n",
    "La matriz identidad es aquella matriz cuadrada para la cual los elementos de su diagonal principal son igual 1 y el resto a 0. Y cumple con la propiedad de ser el elemento neutro del producto de matrices(similar al 1 con escalares , 1xn = n ) lo cual significa que el resultado de aplicar el producto de matrices entre una matriz A y la matriz identidad I es igual a A:\n",
    "$$AI = A$$"
   ]
  },
  {
   "cell_type": "code",
   "execution_count": null,
   "metadata": {
    "colab": {
     "base_uri": "https://localhost:8080/"
    },
    "id": "2wPAHhD9FN1o",
    "outputId": "748f9045-eae4-4870-b3a9-d191e70c507f"
   },
   "outputs": [
    {
     "data": {
      "text/plain": [
       "array([[1., 0., 0.],\n",
       "       [0., 1., 0.],\n",
       "       [0., 0., 1.]])"
      ]
     },
     "execution_count": 26,
     "metadata": {
      "tags": []
     },
     "output_type": "execute_result"
    }
   ],
   "source": [
    "np.identity(3)"
   ]
  },
  {
   "cell_type": "code",
   "execution_count": null,
   "metadata": {
    "colab": {
     "base_uri": "https://localhost:8080/"
    },
    "id": "Mxa3lljzFN1q",
    "outputId": "7af56d5c-dcf6-4297-ea74-e3d345358eec"
   },
   "outputs": [
    {
     "data": {
      "text/plain": [
       "array([[1., 0.],\n",
       "       [0., 1.]])"
      ]
     },
     "execution_count": 27,
     "metadata": {
      "tags": []
     },
     "output_type": "execute_result"
    }
   ],
   "source": [
    "np.identity(2)"
   ]
  },
  {
   "cell_type": "code",
   "execution_count": null,
   "metadata": {
    "colab": {
     "base_uri": "https://localhost:8080/"
    },
    "id": "mMQXjGXyFN1s",
    "outputId": "1fb8354b-cc02-4113-cb82-9c805ff156ba"
   },
   "outputs": [
    {
     "name": "stdout",
     "output_type": "stream",
     "text": [
      "[[1. 0. 0. 0.]\n",
      " [0. 1. 0. 0.]\n",
      " [0. 0. 1. 0.]\n",
      " [0. 0. 0. 1.]]\n"
     ]
    }
   ],
   "source": [
    "matriz_identidad4 = np.identity(4)\n",
    "\n",
    "print(matriz_identidad4)"
   ]
  },
  {
   "cell_type": "markdown",
   "metadata": {
    "id": "xsI_un-KFN1u"
   },
   "source": [
    "Podemos utilizar broadcasting y una matriz identidad para construir una matriz cuadrada con cierto valor en su diagonal principal . El siguiente ejemplo crea una matriz  cuadrada de 4x4 inicializada con 5 en su diagonal principal y 0 en el resto de la matriz."
   ]
  },
  {
   "cell_type": "code",
   "execution_count": null,
   "metadata": {
    "colab": {
     "base_uri": "https://localhost:8080/"
    },
    "id": "dF32mJysFN1u",
    "outputId": "0ed8ce29-86fb-414a-9e08-12d3ce73ae25"
   },
   "outputs": [
    {
     "data": {
      "text/plain": [
       "array([[5., 0., 0., 0.],\n",
       "       [0., 5., 0., 0.],\n",
       "       [0., 0., 5., 0.],\n",
       "       [0., 0., 0., 5.]])"
      ]
     },
     "execution_count": 29,
     "metadata": {
      "tags": []
     },
     "output_type": "execute_result"
    }
   ],
   "source": [
    "matriz_identidad4*5"
   ]
  },
  {
   "cell_type": "markdown",
   "metadata": {
    "id": "OihGePa6FN1w"
   },
   "source": [
    "El concepto de matriz identidad existe solo para matrices cuadradas, pero hay casos donde se necesita usar matrices no cuadradas con 1 en su diagonal principal y 0 en cualquier otra posición, para esto podemos usar:\n",
    "\n",
    "**np.eye(filas,columnas)**"
   ]
  },
  {
   "cell_type": "code",
   "execution_count": null,
   "metadata": {
    "colab": {
     "base_uri": "https://localhost:8080/"
    },
    "id": "3fmQJU8jFN1x",
    "outputId": "06889c03-9a97-4345-d81f-fb783c75bfbe"
   },
   "outputs": [
    {
     "data": {
      "text/plain": [
       "array([[1., 0., 0., 0., 0.],\n",
       "       [0., 1., 0., 0., 0.],\n",
       "       [0., 0., 1., 0., 0.]])"
      ]
     },
     "execution_count": 30,
     "metadata": {
      "tags": []
     },
     "output_type": "execute_result"
    }
   ],
   "source": [
    "np.eye(3,5)"
   ]
  },
  {
   "cell_type": "code",
   "execution_count": null,
   "metadata": {
    "colab": {
     "base_uri": "https://localhost:8080/"
    },
    "id": "oL9Mv_LpFN1z",
    "outputId": "b4bdb941-e17c-4baf-aa5b-29ab10c77017"
   },
   "outputs": [
    {
     "data": {
      "text/plain": [
       "array([[1., 0., 0.],\n",
       "       [0., 1., 0.],\n",
       "       [0., 0., 1.],\n",
       "       [0., 0., 0.],\n",
       "       [0., 0., 0.]])"
      ]
     },
     "execution_count": 31,
     "metadata": {
      "tags": []
     },
     "output_type": "execute_result"
    }
   ],
   "source": [
    "np.eye(5,3)"
   ]
  },
  {
   "cell_type": "markdown",
   "metadata": {
    "id": "WNBlx8B5FN10"
   },
   "source": [
    "Matriz identidad on np.eye"
   ]
  },
  {
   "cell_type": "code",
   "execution_count": null,
   "metadata": {
    "colab": {
     "base_uri": "https://localhost:8080/"
    },
    "id": "hUtjUdycFN10",
    "outputId": "881ec558-efe6-4fa6-9fc2-caa42fd941ca"
   },
   "outputs": [
    {
     "data": {
      "text/plain": [
       "array([[1., 0., 0.],\n",
       "       [0., 1., 0.],\n",
       "       [0., 0., 1.]])"
      ]
     },
     "execution_count": 32,
     "metadata": {
      "tags": []
     },
     "output_type": "execute_result"
    }
   ],
   "source": [
    "np.eye(3,3) #np.identity(3)"
   ]
  },
  {
   "cell_type": "markdown",
   "metadata": {
    "id": "PyWsFgEOFN12"
   },
   "source": [
    "Podemos utilizar un  tercer parametro en np.eye para especificar la digonal a inicializar con 1(no necesariamente la principal)"
   ]
  },
  {
   "cell_type": "code",
   "execution_count": null,
   "metadata": {
    "colab": {
     "base_uri": "https://localhost:8080/"
    },
    "id": "87MhHXZaFN12",
    "outputId": "bdc25966-3205-4ed2-8867-fb00077068c7"
   },
   "outputs": [
    {
     "data": {
      "text/plain": [
       "array([[0., 1., 0.],\n",
       "       [0., 0., 1.],\n",
       "       [0., 0., 0.],\n",
       "       [0., 0., 0.],\n",
       "       [0., 0., 0.]])"
      ]
     },
     "execution_count": 33,
     "metadata": {
      "tags": []
     },
     "output_type": "execute_result"
    }
   ],
   "source": [
    "np.eye(5,3,1)"
   ]
  },
  {
   "cell_type": "code",
   "execution_count": null,
   "metadata": {
    "colab": {
     "base_uri": "https://localhost:8080/"
    },
    "id": "9tWpN_2hFN13",
    "outputId": "b6e578c7-25b4-4192-ac73-2eb28144ef59"
   },
   "outputs": [
    {
     "data": {
      "text/plain": [
       "array([[0., 0., 1.],\n",
       "       [0., 0., 0.],\n",
       "       [0., 0., 0.],\n",
       "       [0., 0., 0.],\n",
       "       [0., 0., 0.]])"
      ]
     },
     "execution_count": 34,
     "metadata": {
      "tags": []
     },
     "output_type": "execute_result"
    }
   ],
   "source": [
    "np.eye(5,3,2)"
   ]
  },
  {
   "cell_type": "code",
   "execution_count": null,
   "metadata": {
    "colab": {
     "base_uri": "https://localhost:8080/"
    },
    "id": "hm9cIvH4FN14",
    "outputId": "8f73cced-9b34-42bc-b083-a094d1639c01"
   },
   "outputs": [
    {
     "data": {
      "text/plain": [
       "array([[0., 0., 0.],\n",
       "       [1., 0., 0.],\n",
       "       [0., 1., 0.],\n",
       "       [0., 0., 1.],\n",
       "       [0., 0., 0.]])"
      ]
     },
     "execution_count": 35,
     "metadata": {
      "tags": []
     },
     "output_type": "execute_result"
    }
   ],
   "source": [
    "np.eye(5,3,-1)"
   ]
  },
  {
   "cell_type": "code",
   "execution_count": null,
   "metadata": {
    "colab": {
     "base_uri": "https://localhost:8080/"
    },
    "id": "Qo-PNy-fFN16",
    "outputId": "26cb50cd-70f0-4040-b165-3d96668bd8dc"
   },
   "outputs": [
    {
     "data": {
      "text/plain": [
       "array([[0., 0., 0.],\n",
       "       [0., 0., 0.],\n",
       "       [1., 0., 0.],\n",
       "       [0., 1., 0.],\n",
       "       [0., 0., 1.]])"
      ]
     },
     "execution_count": 36,
     "metadata": {
      "tags": []
     },
     "output_type": "execute_result"
    }
   ],
   "source": [
    "np.eye(5,3,-2)"
   ]
  },
  {
   "cell_type": "markdown",
   "metadata": {
    "id": "Utt8Pc03FN18"
   },
   "source": [
    "**Contruir matriz Diagonal**\n",
    "\n",
    "Una matriz diagonal , es una matriz cuadrada de n*n la cual tiene todos sus elementos igual a 0, excepto los de su diagonal principal que pueden ser cualquier valor diferente de 0(a diferencia de cuando usamos np.eye o matrices identidad donde el valor de la diagonal  es  igual a 1). Para crear matrices diagonales en numpy podemos usar **np.diag** enviando como parametro un vector de n elementos que pertenecen a la diagonal principal."
   ]
  },
  {
   "cell_type": "code",
   "execution_count": null,
   "metadata": {
    "colab": {
     "base_uri": "https://localhost:8080/"
    },
    "id": "LnW1RB4eFN18",
    "outputId": "37a883d4-14c7-4039-f1f5-a1962ec590a6"
   },
   "outputs": [
    {
     "name": "stdout",
     "output_type": "stream",
     "text": [
      "[[1 0 0 0 0]\n",
      " [0 2 0 0 0]\n",
      " [0 0 3 0 0]\n",
      " [0 0 0 4 0]\n",
      " [0 0 0 0 5]]\n"
     ]
    }
   ],
   "source": [
    "matriz_diagonal = np.diag([1,2,3,4,5])\n",
    "\n",
    "print(matriz_diagonal)"
   ]
  },
  {
   "cell_type": "code",
   "execution_count": null,
   "metadata": {
    "colab": {
     "base_uri": "https://localhost:8080/"
    },
    "id": "UQbYqQT5FN1-",
    "outputId": "556c282e-df51-495c-835c-b109859c8911"
   },
   "outputs": [
    {
     "name": "stdout",
     "output_type": "stream",
     "text": [
      "Vector de elementos en la diagonal: [5, 4, 3, 2, 1]\n",
      "Matriz diagonal:\n",
      "[[5 0 0 0 0]\n",
      " [0 4 0 0 0]\n",
      " [0 0 3 0 0]\n",
      " [0 0 0 2 0]\n",
      " [0 0 0 0 1]]\n"
     ]
    }
   ],
   "source": [
    "v = [5,4,3,2,1] #resultado de otro calculo\n",
    "matriz_diagonal = np.diag(v)\n",
    "\n",
    "print(\"Vector de elementos en la diagonal:\",v)\n",
    "print(\"Matriz diagonal:\")\n",
    "print(matriz_diagonal)"
   ]
  },
  {
   "cell_type": "markdown",
   "metadata": {
    "id": "sU8_JBVxFN1E"
   },
   "source": [
    "### Diagonal principal de una matriz\n",
    "\n",
    "La diagonal principal(a veces solo llamada diagonal) es  el conjunto de elementos conformados al recorrer la matriz desde la primera fila y primera columna,luego segunda fila y segunda columna y así sucesivamente hasta donde el tamaño de la matriz permite.\n",
    "\n",
    "<img src=\"http://navarrof.orgfree.com/Docencia/MatematicasI/UT4/ut4t1f8.gif\">"
   ]
  },
  {
   "cell_type": "code",
   "execution_count": null,
   "metadata": {
    "id": "VLOckZNZFN1E"
   },
   "outputs": [],
   "source": [
    "matriz = np.array([[1,2,3],\n",
    "                   [5,6,7],\n",
    "                   [8,9,10]])"
   ]
  },
  {
   "cell_type": "code",
   "execution_count": null,
   "metadata": {
    "colab": {
     "base_uri": "https://localhost:8080/"
    },
    "id": "hCS3KgxZFN1G",
    "outputId": "91c0764c-c90b-4131-f7d0-0f0fa1eb9795"
   },
   "outputs": [
    {
     "name": "stdout",
     "output_type": "stream",
     "text": [
      "Matriz:\n",
      "[[ 1  2  3]\n",
      " [ 5  6  7]\n",
      " [ 8  9 10]]\n"
     ]
    }
   ],
   "source": [
    "print(\"Matriz:\")\n",
    "print(matriz)"
   ]
  },
  {
   "cell_type": "code",
   "execution_count": null,
   "metadata": {
    "colab": {
     "base_uri": "https://localhost:8080/"
    },
    "id": "cC1fOxS9FN1H",
    "outputId": "7754a1e4-8938-4662-d178-402361c1d38c"
   },
   "outputs": [
    {
     "data": {
      "text/plain": [
       "array([ 1,  6, 10])"
      ]
     },
     "execution_count": 41,
     "metadata": {
      "tags": []
     },
     "output_type": "execute_result"
    }
   ],
   "source": [
    "matriz.diagonal()"
   ]
  },
  {
   "cell_type": "code",
   "execution_count": null,
   "metadata": {
    "colab": {
     "base_uri": "https://localhost:8080/"
    },
    "id": "_6NxB8XuFN1J",
    "outputId": "aa466a7f-9fda-4e55-b2f1-3bdd50612613"
   },
   "outputs": [
    {
     "data": {
      "text/plain": [
       "array([ 1,  6, 10])"
      ]
     },
     "execution_count": 42,
     "metadata": {
      "tags": []
     },
     "output_type": "execute_result"
    }
   ],
   "source": [
    "np.diag(matriz)"
   ]
  },
  {
   "cell_type": "code",
   "execution_count": null,
   "metadata": {
    "colab": {
     "base_uri": "https://localhost:8080/"
    },
    "id": "Vr8hNrcyFN1K",
    "outputId": "76f1bced-c03e-40ff-b5a2-7fcaccaed0ec"
   },
   "outputs": [
    {
     "data": {
      "text/plain": [
       "array([ 1,  6, 10])"
      ]
     },
     "execution_count": 43,
     "metadata": {
      "tags": []
     },
     "output_type": "execute_result"
    }
   ],
   "source": [
    "np.diag(matriz)"
   ]
  },
  {
   "cell_type": "code",
   "execution_count": null,
   "metadata": {
    "colab": {
     "base_uri": "https://localhost:8080/"
    },
    "id": "nEfz2dUBFN1M",
    "outputId": "605ab71d-aa32-455e-b4c7-5f10a208ce0e"
   },
   "outputs": [
    {
     "name": "stdout",
     "output_type": "stream",
     "text": [
      "[[ 0  1  2  3]\n",
      " [ 4  5  6  7]\n",
      " [ 8  9 10 11]\n",
      " [12 13 14 15]]\n"
     ]
    }
   ],
   "source": [
    "matriz_cuadrada = np.reshape(np.arange(16),(4,4))\n",
    "\n",
    "print(matriz_cuadrada)"
   ]
  },
  {
   "cell_type": "code",
   "execution_count": null,
   "metadata": {
    "colab": {
     "base_uri": "https://localhost:8080/"
    },
    "id": "z8KkZj_kFN1N",
    "outputId": "6ba1ccca-7406-4292-96fd-6185332dfd55"
   },
   "outputs": [
    {
     "data": {
      "text/plain": [
       "array([ 0,  5, 10, 15])"
      ]
     },
     "execution_count": 45,
     "metadata": {
      "tags": []
     },
     "output_type": "execute_result"
    }
   ],
   "source": [
    "matriz_cuadrada.diagonal()"
   ]
  },
  {
   "cell_type": "markdown",
   "metadata": {
    "id": "RLVwGx7WFN1_"
   },
   "source": [
    "### Accediendo elementos específicos de una matriz\n",
    "\n",
    "Similar a cuando estudiamos colecciones como listas y tuplas , en muchos casos necesitamos acceder a elementos específicos de cierta matriz , en algunos casos únicamente para consultar los datos que esta contiene o bien para utilizarlos en alguna otra operación o en otros casos para modificar solo ciertos elementos de la matriz. Cuando estudiamos vectores no dedicamos mucho tiempo a esto ya que es exactamente igual al caso de listas (lo cual ya habiamos visto a detalle antes)  pero para el caso de matrices(y tensores de mayor dimensionalidad como veremos) existen algunos detalles adicionales que necesitamos conocer.\n",
    "\n",
    "La buena parte de esto es que aun que hay algunos detalles adicionales, el acceso a elementos sigue basado en lo que aprendimos de **indexing**  y **slicing** y todo lo que aprendimos aplica también para matrices.\n",
    "\n",
    "Estudiaremos el acceso a elementos de la matriz dividio en 3 partes:\n",
    "\n",
    "1. Acceso a filas y columnas completas(una única fila  o columna).\n",
    "2. Acceso a elementos específicos de la matriz(cierta fila, cierta columna).\n",
    "3. Multiples filas y/o múltiples columnas de la matriz combinando los 2 anteriores.\n",
    "\n",
    "**Nota** No olvidemos que en Python el primer elemento se representa con la posicion 0 y el ultimo con la posicion n-1, en matemática se acostumbra a hacerlo de 1 a n .\n",
    "\n",
    "\n",
    "#### Acceder a filas completas: \n",
    "Cuando necesitamos acceder a filas completas de la matriz usamos la sintaxis conocida de:\n",
    "\n",
    "**A[indice]**\n",
    "\n",
    "Donde\n",
    "* A = la matriz de \"m\" filas y \"n\" columnas,de la cual queremos acceder una fila\n",
    "* indice = el número de fila a acceder(de -m a m-1)\n",
    "\n",
    "Si la matriz esta organizada de manera tal que cada fila representa una observación u ocurrencia de un evento y cada columna características de esta observación u ocurrencia ,el acceder a cierta fila implica acceder a cierta observación específica."
   ]
  },
  {
   "cell_type": "code",
   "execution_count": null,
   "metadata": {
    "colab": {
     "base_uri": "https://localhost:8080/"
    },
    "id": "-iwaU8YHFN2A",
    "outputId": "4cf61338-8f0c-4948-961c-c0347519ca69"
   },
   "outputs": [
    {
     "name": "stdout",
     "output_type": "stream",
     "text": [
      "[1 2 3]\n",
      "[7 8 9]\n"
     ]
    }
   ],
   "source": [
    "matriz = np.array([[1,2,3],\n",
    "                   [4,5,6],\n",
    "                   [7,8,9]])\n",
    "\n",
    "print(matriz[0]) #acceder a la primera fila\n",
    "print(matriz[2]) #acceder a la última fila m-1"
   ]
  },
  {
   "cell_type": "code",
   "execution_count": null,
   "metadata": {
    "colab": {
     "base_uri": "https://localhost:8080/"
    },
    "id": "0oKFdJOOFN2C",
    "outputId": "dd81e501-3683-4959-ae0b-c3cd500f84ff"
   },
   "outputs": [
    {
     "name": "stdout",
     "output_type": "stream",
     "text": [
      "[7 8 9]\n",
      "[1 2 3]\n"
     ]
    }
   ],
   "source": [
    "print(matriz[-1]) # acceder a la última fila con indice negativo\n",
    "print(matriz[-3]) # acceder a la primera fila -m con  indice negativo"
   ]
  },
  {
   "cell_type": "code",
   "execution_count": null,
   "metadata": {
    "colab": {
     "base_uri": "https://localhost:8080/"
    },
    "id": "8T84w3APFN2D",
    "outputId": "dd1af63a-4b12-4dd5-e268-e5d91deda7a6"
   },
   "outputs": [
    {
     "name": "stdout",
     "output_type": "stream",
     "text": [
      "[4 5 6]\n",
      "[4 5 6]\n"
     ]
    }
   ],
   "source": [
    "print(matriz[1])  # acceder a la segunda fila con indice positivo\n",
    "print(matriz[-2]) # acceder a la segunda fila con indice negativo"
   ]
  },
  {
   "cell_type": "markdown",
   "metadata": {
    "id": "2GvWgdysFN2F"
   },
   "source": [
    "Podemos asignar a una variable la fila accesada \n",
    "\n"
   ]
  },
  {
   "cell_type": "code",
   "execution_count": null,
   "metadata": {
    "colab": {
     "base_uri": "https://localhost:8080/"
    },
    "id": "XgohxmEYFN2F",
    "outputId": "d88e206b-5aa0-4311-8222-e859419e111a"
   },
   "outputs": [
    {
     "name": "stdout",
     "output_type": "stream",
     "text": [
      "[4 5 6] [12 15 18]\n"
     ]
    }
   ],
   "source": [
    "fila2 = matriz[1]\n",
    "\n",
    "fila2_triplicada =fila2*3\n",
    "print(fila2,fila2_triplicada)"
   ]
  },
  {
   "cell_type": "markdown",
   "metadata": {
    "id": "0gBu6FSFFN2I"
   },
   "source": [
    "#### Acceder a columnas completas: \n",
    "Cuando necesitamos acceder a columnas completas de la matriz usamos la sintaxis conocida de:\n",
    "\n",
    "**A[:,indice]**\n",
    "\n",
    "Donde\n",
    "* A = la matriz de \"m\" filas y \"n\" columnas,de la cual queremos acceder una columna.\n",
    "* indice = el número de columna a acceder(de -n a n-1)\n",
    "\n",
    "Si la matriz esta organizada de manera tal que cada fila representa una observación u ocurrencia de un evento y cada columna características de esta observación u ocurrencia ,el acceder a cierta columna implica acceder a cierta característica.\n",
    "\n",
    "**nota** : Al igual que con listas, usamos \":\" para hacer slicing que en este caso indica todas las filas(mas detalles en la siguiente sección). "
   ]
  },
  {
   "cell_type": "code",
   "execution_count": null,
   "metadata": {
    "colab": {
     "base_uri": "https://localhost:8080/"
    },
    "id": "VCJVI-a9FN2J",
    "outputId": "dc661372-1754-4c2f-bd35-0597982c257a"
   },
   "outputs": [
    {
     "name": "stdout",
     "output_type": "stream",
     "text": [
      "[[1 2 3]\n",
      " [4 5 6]\n",
      " [7 8 9]]\n",
      "Columnas individuales:\n",
      "[1 4 7]\n",
      "[3 6 9]\n"
     ]
    }
   ],
   "source": [
    "matriz = np.array([[1,2,3],\n",
    "                   [4,5,6],\n",
    "                   [7,8,9]])\n",
    "\n",
    "print(matriz)\n",
    "print(\"Columnas individuales:\")\n",
    "print(matriz[:,0]) #acceder a la primera columna\n",
    "print(matriz[:,2]) #acceder a la última columna n-1"
   ]
  },
  {
   "cell_type": "code",
   "execution_count": null,
   "metadata": {
    "colab": {
     "base_uri": "https://localhost:8080/"
    },
    "id": "JysT7uKUFN2L",
    "outputId": "c073b330-6442-425f-e809-3c8fa14e987a"
   },
   "outputs": [
    {
     "name": "stdout",
     "output_type": "stream",
     "text": [
      "[[1 2 3]\n",
      " [4 5 6]\n",
      " [7 8 9]]\n",
      "Columnas individuales:\n",
      "[3 6 9]\n",
      "[1 4 7]\n"
     ]
    }
   ],
   "source": [
    "print(matriz)\n",
    "print(\"Columnas individuales:\")\n",
    "print(matriz[:,-1]) # acceder a la última columna con indice negativo\n",
    "print(matriz[:,-3]) # acceder a la primera columna -n con  indice negativo"
   ]
  },
  {
   "cell_type": "code",
   "execution_count": null,
   "metadata": {
    "colab": {
     "base_uri": "https://localhost:8080/"
    },
    "id": "PwDZm_vnFN2N",
    "outputId": "71b667b8-a56f-4596-f0b6-4b3afab00a67"
   },
   "outputs": [
    {
     "name": "stdout",
     "output_type": "stream",
     "text": [
      "[[1 2 3]\n",
      " [4 5 6]\n",
      " [7 8 9]]\n",
      "Columnas individuales:\n",
      "[2 5 8]\n",
      "[2 5 8]\n"
     ]
    }
   ],
   "source": [
    "print(matriz)\n",
    "print(\"Columnas individuales:\")\n",
    "print(matriz[:,1])  # acceder a la segunda columna con indice positivo\n",
    "print(matriz[:,-2]) # acceder a la segunda columna con indice negativo"
   ]
  },
  {
   "cell_type": "code",
   "execution_count": null,
   "metadata": {
    "colab": {
     "base_uri": "https://localhost:8080/"
    },
    "id": "oHOA-RZ6FN2O",
    "outputId": "b478d008-832f-4a41-85a5-abf7a470f2bf"
   },
   "outputs": [
    {
     "name": "stdout",
     "output_type": "stream",
     "text": [
      "[[1 2 3]\n",
      " [4 5 6]\n",
      " [7 8 9]]\n",
      "[3 6 9] [ 9 18 27]\n"
     ]
    }
   ],
   "source": [
    "columna3 = matriz[:,2]\n",
    "\n",
    "columna3_triplicada =columna3*3\n",
    "print(matriz)\n",
    "print(columna3,columna3_triplicada)"
   ]
  },
  {
   "cell_type": "markdown",
   "metadata": {
    "id": "tq6tnqkMFN2P"
   },
   "source": [
    "Si consultamos el atributo shape en un vector obtenido al acceder a una fila o columna específica podemos ver que tenemos una **dimensión desconocida** o no específicada. En algunos casos puede llevar a comportamientos no predecibles  y/o inesperados."
   ]
  },
  {
   "cell_type": "code",
   "execution_count": null,
   "metadata": {
    "colab": {
     "base_uri": "https://localhost:8080/"
    },
    "id": "ylPrv9bEFN2P",
    "outputId": "3060fdba-274a-4389-a862-880f9d8a0ada"
   },
   "outputs": [
    {
     "data": {
      "text/plain": [
       "(3,)"
      ]
     },
     "execution_count": 55,
     "metadata": {
      "tags": []
     },
     "output_type": "execute_result"
    }
   ],
   "source": [
    "columna3.shape"
   ]
  },
  {
   "cell_type": "markdown",
   "metadata": {
    "id": "sUI2SzArFN2R"
   },
   "source": [
    "En algunos casos queremos eliminar este compartamiento y asegurarnos de poseer un valor de 1 en lugar del valor no especifidado , podemos para esto usar la función \"expand_dims\" e indicarle si queremos convertir el vector de n elementos en una matriz de 1 fila y columnas o n filas y una columna"
   ]
  },
  {
   "cell_type": "code",
   "execution_count": null,
   "metadata": {
    "colab": {
     "base_uri": "https://localhost:8080/"
    },
    "id": "Z9tA-c0qFN2S",
    "outputId": "d5ba0c00-66b8-4748-99e9-4ba8e76bb689"
   },
   "outputs": [
    {
     "name": "stdout",
     "output_type": "stream",
     "text": [
      "[[3 6 9]]\n",
      "(1, 3)\n"
     ]
    }
   ],
   "source": [
    "una_fila_3_cols = np.expand_dims(columna3,0) # el parametro 0 indica crear una matriz 1 fila con n columnas\n",
    "\n",
    "print(una_fila_3_cols)\n",
    "print(una_fila_3_cols.shape)"
   ]
  },
  {
   "cell_type": "code",
   "execution_count": null,
   "metadata": {
    "colab": {
     "base_uri": "https://localhost:8080/"
    },
    "id": "w3Jm-R-ZFN2T",
    "outputId": "ca8ecf4f-b627-4016-f717-2f4d652f2404"
   },
   "outputs": [
    {
     "name": "stdout",
     "output_type": "stream",
     "text": [
      "[[3]\n",
      " [6]\n",
      " [9]]\n",
      "(3, 1)\n"
     ]
    }
   ],
   "source": [
    "una_col_3_filas = np.expand_dims(columna3,1) # el parametro 1 indica crear una matriz de n filas y 1 columna\n",
    "\n",
    "print(una_col_3_filas)\n",
    "print(una_col_3_filas.shape)"
   ]
  },
  {
   "cell_type": "markdown",
   "metadata": {
    "id": "ujgMBXqhFN2V"
   },
   "source": [
    "Aun que menos común y poco necesario , también podemos realizar la operacion contraria:convertir 1 matriz con ya sea 1 sola fila o 1 sola columna, en un vector con una dimensión no definida. usando **np.squeeze**"
   ]
  },
  {
   "cell_type": "code",
   "execution_count": null,
   "metadata": {
    "colab": {
     "base_uri": "https://localhost:8080/"
    },
    "id": "KlMKO12AFN2V",
    "outputId": "1966bbfb-529d-4ee7-fc52-689f84e3ddea"
   },
   "outputs": [
    {
     "name": "stdout",
     "output_type": "stream",
     "text": [
      "[3 6 9]\n",
      "(3,)\n"
     ]
    }
   ],
   "source": [
    "print(np.squeeze(una_col_3_filas))\n",
    "print(np.squeeze(una_col_3_filas).shape)\n"
   ]
  },
  {
   "cell_type": "markdown",
   "metadata": {
    "id": "2mAnO-uvFN2X"
   },
   "source": [
    "#### Acceder a elementos específicos(indexing): \n",
    "En muchos casos necesitamos acceder a elementos específicos de la matriz ya sea como consulta, usarlos en otro cálculo o para cambiar su valor, podemos entonces acceder a elementos específicos de la matriz a partir de su posición (fila y columna).\n",
    "\n",
    "**A[fila,columna]**\n",
    "\n",
    "Donde\n",
    "* A = la matriz de \"m\" filas y \"n\" columnas,de la cual queremos acceder un elemento.\n",
    "* fila = el número de columna a acceder(de -m a m-1)\n",
    "* columna = el número de columna a acceder (de -n a n-1)\n",
    "\n",
    "Si la matriz esta organizada de manera tal que cada fila representa una observación u ocurrencia de un evento y cada columna características de esta observación u ocurrencia ,el acceder a un elemento localizado en cierta fila y columna se interpreta como: la característica j de la observación i."
   ]
  },
  {
   "cell_type": "code",
   "execution_count": null,
   "metadata": {
    "colab": {
     "base_uri": "https://localhost:8080/"
    },
    "id": "eNW4E52DFN2X",
    "outputId": "566c1d1d-30d1-4c3b-af7f-e63ebf2ea542"
   },
   "outputs": [
    {
     "name": "stdout",
     "output_type": "stream",
     "text": [
      "[[1 2 3]\n",
      " [4 5 6]\n",
      " [7 8 9]]\n",
      "Elementos individuales:\n",
      "1\n",
      "3\n"
     ]
    }
   ],
   "source": [
    "matriz = np.array([\n",
    "    [1,2,3],\n",
    "    [4,5,6],\n",
    "    [7,8,9]])\n",
    "\n",
    "print(matriz)\n",
    "print(\"Elementos individuales:\")\n",
    "print(matriz[0,0]) # acceder a elemento en primera fila y primera columna\n",
    "print(matriz[0,2]) # acceder a elemento en la primera fila la última columna n-1"
   ]
  },
  {
   "cell_type": "code",
   "execution_count": null,
   "metadata": {
    "colab": {
     "base_uri": "https://localhost:8080/"
    },
    "id": "D97TAF6YFN2Y",
    "outputId": "cdd450a1-a37f-49e9-9e41-a6aa13cc3f47"
   },
   "outputs": [
    {
     "name": "stdout",
     "output_type": "stream",
     "text": [
      "[[1 2 3]\n",
      " [4 5 6]\n",
      " [7 8 9]]\n",
      "Elementos individuales:\n",
      "3\n",
      "1\n"
     ]
    }
   ],
   "source": [
    "print(matriz)\n",
    "print(\"Elementos individuales:\")\n",
    "print(matriz[0,-1]) # acceder a elemento en la primera fila y la última columna con indice negativo\n",
    "print(matriz[-3,-3]) # acceder a elemento en la primera fila y la primera columna -n con  indice negativo"
   ]
  },
  {
   "cell_type": "code",
   "execution_count": null,
   "metadata": {
    "colab": {
     "base_uri": "https://localhost:8080/"
    },
    "id": "hhNsuJ4QFN2Z",
    "outputId": "ff9d9ff6-7d99-4212-e232-c8349a387544"
   },
   "outputs": [
    {
     "name": "stdout",
     "output_type": "stream",
     "text": [
      "[[1 2 3]\n",
      " [4 5 6]\n",
      " [7 8 9]]\n",
      "Elementos individuales:\n",
      "5\n",
      "5\n"
     ]
    }
   ],
   "source": [
    "print(matriz)\n",
    "print(\"Elementos individuales:\")\n",
    "print(matriz[1,1])  # acceder elemento en la segunda fila con indice positivo y  la segunda columna con indice positivo\n",
    "print(matriz[-2,-2]) # accederelemento en la segunda fila y  la segunda columna con indice negativo"
   ]
  },
  {
   "cell_type": "markdown",
   "metadata": {
    "id": "2yBXYDCCFN2a"
   },
   "source": [
    "**Nota** La sintaxis vista utilizando un unico par de corchetes y separar el indice de filas del de columnas por comas es la forma recomendada de hacerlo tanto por performance y legibilidad, la siguiente celda logra el mismo resultado de la anterior pero es menos eficiente, esto por que hay 2 operaciones en lugar de 1:\n",
    "\n",
    "* Primero se accede a una fila de la matriz y se crea un vector intermedio temporal para esta.\n",
    "* Luego accedemos a un elemento del vector intermedio temporal."
   ]
  },
  {
   "cell_type": "code",
   "execution_count": null,
   "metadata": {
    "id": "kC6QwG06FN2a",
    "outputId": "ef22e60b-5457-45eb-f56c-001b7a3d586f"
   },
   "outputs": [
    {
     "name": "stdout",
     "output_type": "stream",
     "text": [
      "[[1 2 3]\n",
      " [4 5 6]\n",
      " [7 8 9]]\n",
      "Elementos individuales:\n",
      "5\n",
      "5\n"
     ]
    }
   ],
   "source": [
    "print(matriz)\n",
    "print(\"Elementos individuales:\")\n",
    "print(matriz[1][1])  # acceder elemento en la segunda fila con indice positivo y  la segunda columna con indice positivo\n",
    "print(matriz[-2][-2]) # acceder elemento en la segunda fila y  la segunda columna con indice negativo"
   ]
  },
  {
   "cell_type": "markdown",
   "metadata": {
    "id": "hUDrcEO4FN2c"
   },
   "source": [
    "#### Acceder sub-porciones de una matriz(slicing): \n",
    "En algunos casos necesitamos acceder sub-porciones de la matriz, por ejemplo casos como los siguientes:\n",
    "* Las primeras 3 filas , últimas 2 columnas.\n",
    "* Las últimas 5 filas , las columnas 2,4,6.\n",
    "* Las filas de la 10 a la 20 , primeras 5 columnas.\n",
    "* Ultima fila , últimas 3 columnas\n",
    "\n",
    "Estos requieren acceder más de una fila, o mas de una columna(o ambos casos) por lo tanto no podemos específicar solo una fila o solo una columna como en los ejemplos anteriores. Por suerte podemos extender el concepto de slicing ya estudiado a este caso, solo necesitamos pensar cada dimensión de manera individual.\n",
    "\n",
    "Utilizaremos nuevamente el operador \":\" para indicar sub-porciones, y pensamos de manera independiete filas y columnas por lo cual podemos usar hasta  2 operadores \":\" al acceder elementos de una matriz.\n",
    "\n",
    "\n",
    "**A[fila_inicio:fila_fin,columna_inicio:columna_fin]**\n",
    "\n",
    "Donde\n",
    "* A = la matriz de \"m\" filas y \"n\" columnas,de la cual queremos acceder una sub-porcion\n",
    "* fila_inicio\n",
    "* fila_fin\n",
    "* columna_inicio\n",
    "* columna_fin\n",
    "\n",
    "Otra manera de acceder a múltiples columnas o filas de una matriz es usando una lista con los indices deseados, por ejemplo si deseamos acceder a la primera y quinta fila podemos usar una lista con los indices [0,4].\n",
    "\n",
    "\n",
    "**A[lista_filas,lista_columnas]**\n",
    "\n",
    "Donde\n",
    "* A = la matriz de \"m\" filas y \"n\" columnas,de la cual queremos acceder una sub-porcion\n",
    "* lista_filas: lista de las filas  a acceder\n",
    "* lista_columnas: lista de las columnas a acceder\n",
    "\n",
    "O bien podemos combinar estos 2 casos y usar \":\" para indicar filas(o columnas) y una lista para indicar columnas(o filas)."
   ]
  },
  {
   "cell_type": "code",
   "execution_count": null,
   "metadata": {
    "colab": {
     "base_uri": "https://localhost:8080/"
    },
    "id": "Xp5jZS-IFN2c",
    "outputId": "cc17a19f-257c-43d4-92ad-3547715d00df"
   },
   "outputs": [
    {
     "name": "stdout",
     "output_type": "stream",
     "text": [
      "[[ 1  2  3]\n",
      " [ 4  5  6]\n",
      " [ 7  8  9]\n",
      " [10 11 12]]\n"
     ]
    }
   ],
   "source": [
    "matriz = np.array([[1,2,3],\n",
    "                   [4,5,6],\n",
    "                   [7,8,9],\n",
    "                   [10,11,12]])\n",
    "\n",
    "print(matriz)"
   ]
  },
  {
   "cell_type": "markdown",
   "metadata": {
    "id": "sVcmR-MEFN2d"
   },
   "source": [
    "* Primeras 3 filas ,últimas 2 columnas "
   ]
  },
  {
   "cell_type": "code",
   "execution_count": null,
   "metadata": {
    "id": "Gfd4af0RFN2h",
    "outputId": "12244908-d1ec-44b5-ad92-5577601f7f67"
   },
   "outputs": [
    {
     "name": "stdout",
     "output_type": "stream",
     "text": [
      "[[2 3]\n",
      " [5 6]\n",
      " [8 9]]\n"
     ]
    }
   ],
   "source": [
    "print(matriz[0:3,-2:])"
   ]
  },
  {
   "cell_type": "markdown",
   "metadata": {
    "id": "VSLWOFaMFN2i"
   },
   "source": [
    "* Las últimas 2 filas , las columnas 0,2"
   ]
  },
  {
   "cell_type": "code",
   "execution_count": null,
   "metadata": {
    "colab": {
     "base_uri": "https://localhost:8080/"
    },
    "id": "KUgATrItFN2i",
    "outputId": "ae552d2f-1754-4b7f-bea5-de34cae154c9"
   },
   "outputs": [
    {
     "name": "stdout",
     "output_type": "stream",
     "text": [
      "[[ 7  9]\n",
      " [10 12]]\n"
     ]
    }
   ],
   "source": [
    "print(matriz[-2:,[0,2]])"
   ]
  },
  {
   "cell_type": "markdown",
   "metadata": {
    "id": "dMKAwgnNFN2j"
   },
   "source": [
    "* Las filas de la 1 a la 2 , primeras 2 columnas."
   ]
  },
  {
   "cell_type": "code",
   "execution_count": null,
   "metadata": {
    "id": "_If1n4EjFN2j",
    "outputId": "812d62a4-b159-4920-bae1-eb9ac18be2c9"
   },
   "outputs": [
    {
     "name": "stdout",
     "output_type": "stream",
     "text": [
      "[[4 5]\n",
      " [7 8]]\n"
     ]
    }
   ],
   "source": [
    "print(matriz[1:3,:2]) # recordemos que el limite superior es no incluyente por lo tanto usamos 3 en lugar de 2"
   ]
  },
  {
   "cell_type": "markdown",
   "metadata": {
    "id": "q2prz58LFN2k"
   },
   "source": [
    "* Ultima fila , últimas 2 columnas"
   ]
  },
  {
   "cell_type": "code",
   "execution_count": null,
   "metadata": {
    "colab": {
     "base_uri": "https://localhost:8080/"
    },
    "id": "MIYQGNJsFN2k",
    "outputId": "a6490e39-7183-4d57-9ef2-c61c49ab09be"
   },
   "outputs": [
    {
     "name": "stdout",
     "output_type": "stream",
     "text": [
      "[11 12]\n"
     ]
    }
   ],
   "source": [
    "print(matriz[-1,-2:])"
   ]
  },
  {
   "cell_type": "code",
   "execution_count": null,
   "metadata": {
    "colab": {
     "base_uri": "https://localhost:8080/"
    },
    "id": "o-D1XRqfFN2m",
    "outputId": "f6b897b5-ec09-447b-fd89-957ba68f250d"
   },
   "outputs": [
    {
     "name": "stdout",
     "output_type": "stream",
     "text": [
      "Matriz:\n"
     ]
    },
    {
     "data": {
      "text/plain": [
       "array([[ 1,  2,  3],\n",
       "       [ 4,  5,  6],\n",
       "       [ 7,  8,  9],\n",
       "       [10, 11, 12]])"
      ]
     },
     "execution_count": 65,
     "metadata": {
      "tags": []
     },
     "output_type": "execute_result"
    }
   ],
   "source": [
    "print(\"Matriz:\")\n",
    "matriz"
   ]
  },
  {
   "cell_type": "markdown",
   "metadata": {
    "id": "V4i6bwV_FN2l"
   },
   "source": [
    "### Matriz transpuesta o Transpuesta de una Matriz\n",
    "\n",
    "La transpuesta de una matriz A es una nueva matriz que puede ser definida según cualquiera de las descripciones comunes a continuación:\n",
    "\n",
    "* Matriz que se obtiene al reflejar la matriz sobre su diagonal principal.\n",
    "* Matriz que se obtiene al convertir filas a columnas y columnas a filas.\n",
    "\n",
    "<img src=\"https://4.bp.blogspot.com/-N5CZYpsTOmc/WLv0zcBnKII/AAAAAAAAaCs/HSsDvDA5KnMbplqnYz1HMuj5QVSpaI54gCLcB/s1600/Traspuesta_ejemplos.png\">\n",
    "\n",
    "En data science es común utilizar la transposición en casos donde debemos trabajar y combinar en un mismo proyecto 2 datasets con distinta orientación, por ejemplo en deep learning en algunos casos se poseen  y deben integrar datasets donde uno de ellos esta como: 1 row por observación  y una columna por feature, y otro dataset donde estan almacenados como 1 row por característica o feature y 1 columna por observación.\n",
    "\n",
    "**Nota**: siempre debemos tener en cuenta el significado y/o interpretación de una matriz y trabajar consistentemente con este significado, esto toma mayor importancia al combinar 2 datasets como en el ejemplo anterior."
   ]
  },
  {
   "cell_type": "code",
   "execution_count": null,
   "metadata": {
    "colab": {
     "base_uri": "https://localhost:8080/"
    },
    "id": "3yZhJ6N2KRdO",
    "outputId": "6afc0822-96f3-42b4-97d7-7324137deed8"
   },
   "outputs": [
    {
     "name": "stdout",
     "output_type": "stream",
     "text": [
      "Matriz:\n"
     ]
    },
    {
     "data": {
      "text/plain": [
       "array([[ 1,  2,  3],\n",
       "       [ 4,  5,  6],\n",
       "       [ 7,  8,  9],\n",
       "       [10, 11, 12]])"
      ]
     },
     "execution_count": 66,
     "metadata": {
      "tags": []
     },
     "output_type": "execute_result"
    }
   ],
   "source": [
    "print(\"Matriz:\")\n",
    "matriz\n"
   ]
  },
  {
   "cell_type": "code",
   "execution_count": null,
   "metadata": {
    "colab": {
     "base_uri": "https://localhost:8080/"
    },
    "id": "Rc7qqHrFFN2n",
    "outputId": "134fc5d3-a580-4e6d-8fe1-b222ce419d67"
   },
   "outputs": [
    {
     "name": "stdout",
     "output_type": "stream",
     "text": [
      "Usando transpose():\n"
     ]
    },
    {
     "data": {
      "text/plain": [
       "array([[ 1,  4,  7, 10],\n",
       "       [ 2,  5,  8, 11],\n",
       "       [ 3,  6,  9, 12]])"
      ]
     },
     "execution_count": 67,
     "metadata": {
      "tags": []
     },
     "output_type": "execute_result"
    }
   ],
   "source": [
    "print(\"Usando transpose():\")\n",
    "matriz.transpose()"
   ]
  },
  {
   "cell_type": "code",
   "execution_count": null,
   "metadata": {
    "id": "n_GNaZThFN2p",
    "outputId": "3f7039bc-558d-4ee9-cc21-55e60ee16ab5"
   },
   "outputs": [
    {
     "name": "stdout",
     "output_type": "stream",
     "text": [
      "Usando .T\n"
     ]
    },
    {
     "data": {
      "text/plain": [
       "array([[ 1,  4,  7, 10],\n",
       "       [ 2,  5,  8, 11],\n",
       "       [ 3,  6,  9, 12]])"
      ]
     },
     "execution_count": 99,
     "metadata": {
      "tags": []
     },
     "output_type": "execute_result"
    }
   ],
   "source": [
    "print(\"Usando .T\")\n",
    "matriz.T"
   ]
  },
  {
   "cell_type": "code",
   "execution_count": null,
   "metadata": {
    "colab": {
     "base_uri": "https://localhost:8080/"
    },
    "id": "dctMEZr8FN2r",
    "outputId": "d213633a-b2a6-4340-9579-a0f82f9e0b0c"
   },
   "outputs": [
    {
     "name": "stdout",
     "output_type": "stream",
     "text": [
      "Matriz:\n"
     ]
    },
    {
     "data": {
      "text/plain": [
       "array([[ 0,  1,  2,  3],\n",
       "       [ 4,  5,  6,  7],\n",
       "       [ 8,  9, 10, 11],\n",
       "       [12, 13, 14, 15]])"
      ]
     },
     "execution_count": 68,
     "metadata": {
      "tags": []
     },
     "output_type": "execute_result"
    }
   ],
   "source": [
    "matriz_cuadrada = np.reshape(np.arange(16),(4,4))\n",
    "print(\"Matriz:\")\n",
    "matriz_cuadrada"
   ]
  },
  {
   "cell_type": "code",
   "execution_count": null,
   "metadata": {
    "colab": {
     "base_uri": "https://localhost:8080/"
    },
    "id": "G3CxRTu8FN2t",
    "outputId": "3166c28d-5a53-4245-c076-ef6155ba5be2"
   },
   "outputs": [
    {
     "name": "stdout",
     "output_type": "stream",
     "text": [
      "Usando transpose():\n"
     ]
    },
    {
     "data": {
      "text/plain": [
       "array([[ 0,  4,  8, 12],\n",
       "       [ 1,  5,  9, 13],\n",
       "       [ 2,  6, 10, 14],\n",
       "       [ 3,  7, 11, 15]])"
      ]
     },
     "execution_count": 69,
     "metadata": {
      "tags": []
     },
     "output_type": "execute_result"
    }
   ],
   "source": [
    "print(\"Usando transpose():\")\n",
    "matriz_cuadrada.transpose()"
   ]
  },
  {
   "cell_type": "code",
   "execution_count": null,
   "metadata": {
    "colab": {
     "base_uri": "https://localhost:8080/"
    },
    "id": "Pu-LCD66FN2u",
    "outputId": "be6f8f27-721c-47f7-f5b1-97a18e94c26e"
   },
   "outputs": [
    {
     "name": "stdout",
     "output_type": "stream",
     "text": [
      "Usando .T\n"
     ]
    },
    {
     "data": {
      "text/plain": [
       "array([[ 0,  4,  8, 12],\n",
       "       [ 1,  5,  9, 13],\n",
       "       [ 2,  6, 10, 14],\n",
       "       [ 3,  7, 11, 15]])"
      ]
     },
     "execution_count": 70,
     "metadata": {
      "tags": []
     },
     "output_type": "execute_result"
    }
   ],
   "source": [
    "print(\"Usando .T\")\n",
    "matriz_cuadrada.T"
   ]
  },
  {
   "cell_type": "code",
   "execution_count": null,
   "metadata": {
    "colab": {
     "base_uri": "https://localhost:8080/"
    },
    "id": "plZ_fxD9FN2v",
    "outputId": "175dd61a-3853-44ed-dc08-6d318027783a"
   },
   "outputs": [
    {
     "data": {
      "text/plain": [
       "array([[ 0,  1,  2,  3],\n",
       "       [ 4,  5,  6,  7],\n",
       "       [ 8,  9, 10, 11],\n",
       "       [12, 13, 14, 15]])"
      ]
     },
     "execution_count": 71,
     "metadata": {
      "tags": []
     },
     "output_type": "execute_result"
    }
   ],
   "source": [
    "matriz_cuadrada"
   ]
  },
  {
   "cell_type": "markdown",
   "metadata": {
    "id": "avIowW4FFN2w"
   },
   "source": [
    "### Concatenar matrices\n",
    "\n",
    "De manera similar a la concatenación de vectores para crear un nuevo vector, podemos concatenar matrices para obtener una nueva matriz , pero ahora poseemos 2 opciones: \n",
    "\n",
    "1. Concatenar por fila.\n",
    "2. Concatenar por columna.\n",
    "\n",
    "Similar a hstack cuando trabajamos con vectores, para concatenar matrices usaremos 3 funciones.\n",
    "\n",
    "1. **np.vstack**: concatenar verticalmente o por fila\n",
    "2. **np.hstack**: concatenar horizontalmente o por columna\n",
    "3. **np.concatenate**: utiliza un parametro nombrado axis para indicar cual de las 2 operaciones realizar , 0 = por fila , 1 = por columna."
   ]
  },
  {
   "cell_type": "code",
   "execution_count": null,
   "metadata": {
    "colab": {
     "base_uri": "https://localhost:8080/"
    },
    "id": "YfjTKHNqMIpS",
    "outputId": "bc66c47c-b103-4433-a3f1-251d095fd256"
   },
   "outputs": [
    {
     "name": "stdout",
     "output_type": "stream",
     "text": [
      "[[0. 0. 0. 0.]\n",
      " [0. 0. 0. 0.]]\n",
      "[[1. 1. 1.]\n",
      " [1. 1. 1.]]\n"
     ]
    }
   ],
   "source": [
    "ceros = np.zeros((2,4)) #2 filas y 4 columnas de ceros\n",
    "unos = np.ones((2,3)) # 2 filas y 3 columnas de unos\n",
    "\n",
    "print(ceros)\n",
    "print(unos)"
   ]
  },
  {
   "cell_type": "code",
   "execution_count": null,
   "metadata": {
    "id": "o2JqDSCLFN2w",
    "outputId": "d9976a6f-7001-4717-8162-32361fa9df27"
   },
   "outputs": [
    {
     "data": {
      "text/plain": [
       "array([[0., 0., 0., 0., 1., 1., 1.],\n",
       "       [0., 0., 0., 0., 1., 1., 1.]])"
      ]
     },
     "execution_count": 104,
     "metadata": {
      "tags": []
     },
     "output_type": "execute_result"
    }
   ],
   "source": [
    "ceros = np.zeros((2,4)) #2 filas y 4 columnas de ceros\n",
    "unos = np.ones((2,3)) # 2 filas y 3 columnas de unos\n",
    "\n",
    "np.hstack((ceros,unos))"
   ]
  },
  {
   "cell_type": "code",
   "execution_count": null,
   "metadata": {
    "colab": {
     "base_uri": "https://localhost:8080/"
    },
    "id": "dwPhJqxPFN2x",
    "outputId": "453ac06e-c594-41ae-996f-a61daba51379"
   },
   "outputs": [
    {
     "data": {
      "text/plain": [
       "array([1, 2, 3, 2, 3, 4])"
      ]
     },
     "execution_count": 73,
     "metadata": {
      "tags": []
     },
     "output_type": "execute_result"
    }
   ],
   "source": [
    "a = np.array((1,2,3))\n",
    "b = np.array((2,3,4))\n",
    "np.hstack((a,b))"
   ]
  },
  {
   "cell_type": "code",
   "execution_count": null,
   "metadata": {
    "colab": {
     "base_uri": "https://localhost:8080/"
    },
    "id": "ueV05DDeFN2y",
    "outputId": "7b96fe3b-5113-4326-a26c-c8e74e4265d7"
   },
   "outputs": [
    {
     "name": "stdout",
     "output_type": "stream",
     "text": [
      "[[ 1  2  3 -1 -2 -3]\n",
      " [ 4  5  6 -4 -5 -6]]\n",
      "Forma: (2, 6)\n"
     ]
    }
   ],
   "source": [
    "matriz1 = np.array([[1,2,3],\n",
    "                    [4,5,6]])\n",
    "matriz2 = np.array([[-1,-2,-3],\n",
    "                    [-4,-5,-6]])\n",
    "\n",
    "nueva_matriz = np.hstack((matriz1,matriz2))\n",
    "\n",
    "print(nueva_matriz)\n",
    "print(\"Forma:\",nueva_matriz.shape)"
   ]
  },
  {
   "cell_type": "code",
   "execution_count": null,
   "metadata": {
    "colab": {
     "base_uri": "https://localhost:8080/"
    },
    "id": "G3bB-HDiNjKM",
    "outputId": "7848b98a-6de6-4819-f172-8b159124620c"
   },
   "outputs": [
    {
     "data": {
      "text/plain": [
       "array([[1., 2., 3., 1.],\n",
       "       [4., 5., 6., 1.]])"
      ]
     },
     "execution_count": 82,
     "metadata": {
      "tags": []
     },
     "output_type": "execute_result"
    }
   ],
   "source": [
    "matriz1 = np.array([[1,2,3], \n",
    "                    [4,5,6]])\n",
    "\n",
    "#agregando variables a cada observacon\n",
    "np.hstack((matriz1,np.ones(shape=(matriz1.shape[0],1)))) #ejemplo para la parte de proyecto de agregar una columna de 1s"
   ]
  },
  {
   "cell_type": "code",
   "execution_count": null,
   "metadata": {
    "colab": {
     "base_uri": "https://localhost:8080/"
    },
    "id": "8VTymVfzPGCL",
    "outputId": "1b503f77-d494-4976-eaea-270de006e6b7"
   },
   "outputs": [
    {
     "name": "stdout",
     "output_type": "stream",
     "text": [
      "[[1 2 3]\n",
      " [4 5 6]]\n",
      "[[-1 -2 -3]\n",
      " [-4 -5 -6]]\n"
     ]
    }
   ],
   "source": [
    "print(matriz1)\n",
    "print(matriz2)"
   ]
  },
  {
   "cell_type": "code",
   "execution_count": null,
   "metadata": {
    "id": "Fzco_587FN2z",
    "outputId": "bf0044bf-3b97-47a9-9eaf-6ff66aea8f10"
   },
   "outputs": [
    {
     "name": "stdout",
     "output_type": "stream",
     "text": [
      "[[ 1  2  3]\n",
      " [ 4  5  6]\n",
      " [-1 -2 -3]\n",
      " [-4 -5 -6]]\n",
      "Forma: (4, 3)\n"
     ]
    }
   ],
   "source": [
    "nueva_matriz = np.vstack((matriz1,matriz2)) # agregando observaciones con el mismo numero de variables\n",
    "\n",
    "print(nueva_matriz)\n",
    "print(\"Forma:\",nueva_matriz.shape)"
   ]
  },
  {
   "cell_type": "code",
   "execution_count": null,
   "metadata": {
    "colab": {
     "base_uri": "https://localhost:8080/"
    },
    "id": "7MdeH3xsQnN2",
    "outputId": "eec97541-4a59-4ed2-d507-ba4a8eee168b"
   },
   "outputs": [
    {
     "name": "stdout",
     "output_type": "stream",
     "text": [
      "[[1 2 3]\n",
      " [4 5 6]]\n",
      "[[-1 -2 -3]\n",
      " [-4 -5 -6]]\n"
     ]
    }
   ],
   "source": [
    "print(matriz1)\n",
    "print(matriz2)"
   ]
  },
  {
   "cell_type": "code",
   "execution_count": null,
   "metadata": {
    "colab": {
     "base_uri": "https://localhost:8080/"
    },
    "id": "o4DBHRL7FN21",
    "outputId": "b76eed8b-3e55-4616-f2b7-de53bf5d83bf"
   },
   "outputs": [
    {
     "name": "stdout",
     "output_type": "stream",
     "text": [
      "[[ 1  2  3 -1 -2 -3]\n",
      " [ 4  5  6 -4 -5 -6]]\n",
      "Forma: (2, 6)\n"
     ]
    }
   ],
   "source": [
    "nueva_matrix = np.concatenate((matriz1,matriz2),axis=1)\n",
    "\n",
    "print(nueva_matriz)\n",
    "print(\"Forma:\",nueva_matriz.shape)"
   ]
  },
  {
   "cell_type": "markdown",
   "metadata": {
    "id": "vJge2pOoFN22"
   },
   "source": [
    "### ufuncs(universal functions)\n",
    "\n",
    "Ufuncs son funciones que trabajan de manera general independiente de la dimension del objeto al que sean aplicadas, esto significa que la misma función puede ser utilizada sobre valores **escalares**  o sobre **tensores** de cualquier dimensión, en este caso sobre matrices. Cuando es aplicada sobre tensores esta trabaja elemento por elemento soportando \"broadcasting\" .\n",
    "\n",
    "NumPy provee una gran colección de ufuncs comunes en ciencias y que serán muy útiles en data science, ya hemos usado algunas por ejemplo: **np.sin(tensor)** , muchas comunes y que te serán familares son:\n",
    "\n",
    "* np.sign: determinar el signo de un número\n",
    "* np.abs: valor absoluto de un número\n",
    "* np.cos: coseno de un angulo en radianes\n",
    "* np.sin : seno de un angulo en radianes\n",
    "* np.tan : tangente de un angulo en radianes\n",
    "* np.exp : función exponencial e** x\n",
    "* np.log: logaritmo natural\n",
    "* np.log10 : logaritmo base 10\n",
    "* np.log2 : logaritmo base 2\n",
    "* np.sqrt : raiz cuadrada\n",
    "* np.power : potenciacion\n",
    "\n",
    "Al ser aplicadas sobre matrices , las ufuncs obtienen como resultado una matriz con la misma forma de la matriz sobre la que se ejecuta la función resultado de aplicar la función elemento por elemento.\n",
    "\n",
    "Al trabajar una aplicación numérica/científica es recomendable tener a la mano la documentación de las funciones disponibles : https://docs.scipy.org/doc/numpy-1.15.1/reference/routines.math.html\n",
    "\n",
    "#### Nota: \n",
    "En algunos casos requeriremos crear nuestras propias funciones y es recomendable que se apeguen a las ufuncs, es decir que se puedan aplicar independiente de la dimensión del objeto al que se aplican, que soporten broadcasting y muy importante **que su definición evite ciclos y use operaciones vectorizadas y otras ufuncs** , esto será parte de los criterios de evaluación en tareas y exámenes en este curso."
   ]
  },
  {
   "cell_type": "code",
   "execution_count": null,
   "metadata": {
    "colab": {
     "base_uri": "https://localhost:8080/",
     "height": 1000
    },
    "id": "5YXUGPfIFuji",
    "outputId": "7b4338c4-fbe1-4c8a-c238-f3f93a20d992"
   },
   "outputs": [
    {
     "name": "stderr",
     "output_type": "stream",
     "text": [
      "/usr/local/lib/python3.7/dist-packages/seaborn/distributions.py:2164: UserWarning: `displot` is a figure-level function and does not accept the ax= paramter. You may wish to try histplot.\n",
      "  warnings.warn(msg, UserWarning)\n",
      "/usr/local/lib/python3.7/dist-packages/seaborn/distributions.py:2164: UserWarning: `displot` is a figure-level function and does not accept the ax= paramter. You may wish to try histplot.\n",
      "  warnings.warn(msg, UserWarning)\n",
      "/usr/local/lib/python3.7/dist-packages/seaborn/distributions.py:2164: UserWarning: `displot` is a figure-level function and does not accept the ax= paramter. You may wish to try histplot.\n",
      "  warnings.warn(msg, UserWarning)\n",
      "/usr/local/lib/python3.7/dist-packages/seaborn/distributions.py:2164: UserWarning: `displot` is a figure-level function and does not accept the ax= paramter. You may wish to try histplot.\n",
      "  warnings.warn(msg, UserWarning)\n",
      "/usr/local/lib/python3.7/dist-packages/seaborn/distributions.py:2164: UserWarning: `displot` is a figure-level function and does not accept the ax= paramter. You may wish to try histplot.\n",
      "  warnings.warn(msg, UserWarning)\n",
      "/usr/local/lib/python3.7/dist-packages/seaborn/distributions.py:2164: UserWarning: `displot` is a figure-level function and does not accept the ax= paramter. You may wish to try histplot.\n",
      "  warnings.warn(msg, UserWarning)\n"
     ]
    },
    {
     "data": {
      "image/png": "[encoded data removed]",
      "text/plain": [
       "<Figure size 432x288 with 6 Axes>"
      ]
     },
     "metadata": {
      "needs_background": "light",
      "tags": []
     },
     "output_type": "display_data"
    },
    {
     "data": {
      "image/png": "[encoded data removed]",
      "text/plain": [
       "<Figure size 360x360 with 1 Axes>"
      ]
     },
     "metadata": {
      "needs_background": "light",
      "tags": []
     },
     "output_type": "display_data"
    },
    {
     "data": {
      "image/png": "[encoded data removed]",
      "text/plain": [
       "<Figure size 360x360 with 1 Axes>"
      ]
     },
     "metadata": {
      "needs_background": "light",
      "tags": []
     },
     "output_type": "display_data"
    },
    {
     "data": {
      "image/png": "[encoded data removed]",
      "text/plain": [
       "<Figure size 360x360 with 1 Axes>"
      ]
     },
     "metadata": {
      "needs_background": "light",
      "tags": []
     },
     "output_type": "display_data"
    },
    {
     "data": {
      "image/png": "[encoded data removed]",
      "text/plain": [
       "<Figure size 360x360 with 1 Axes>"
      ]
     },
     "metadata": {
      "needs_background": "light",
      "tags": []
     },
     "output_type": "display_data"
    },
    {
     "data": {
      "image/png": "[encoded data removed]",
      "text/plain": [
       "<Figure size 360x360 with 1 Axes>"
      ]
     },
     "metadata": {
      "needs_background": "light",
      "tags": []
     },
     "output_type": "display_data"
    },
    {
     "data": {
      "image/png": "[encoded data removed]",
      "text/plain": [
       "<Figure size 360x360 with 1 Axes>"
      ]
     },
     "metadata": {
      "needs_background": "light",
      "tags": []
     },
     "output_type": "display_data"
    }
   ],
   "source": [
    "import numpy as np\n",
    "import seaborn as sns #instalarlo con anaconda\n",
    "from matplotlib import pyplot as plt \n",
    "\n",
    "x = np.random.randn(1000,6)\n",
    "\n",
    "fig, axs = plt.subplots(nrows=6)\n",
    "\n",
    "for i in range(6):\n",
    "  sns.displot(x[:,i], kde=True,ax=axs[i])\n",
    "\n",
    "plt.show()"
   ]
  },
  {
   "cell_type": "markdown",
   "metadata": {
    "id": "vZv3BTtTHyNb"
   },
   "source": []
  },
  {
   "cell_type": "code",
   "execution_count": null,
   "metadata": {
    "colab": {
     "base_uri": "https://localhost:8080/",
     "height": 34
    },
    "id": "acn_tc_vHzeH",
    "outputId": "801fede3-678b-4ac8-b24b-fbd6d7b106ff"
   },
   "outputs": [
    {
     "data": {
      "text/plain": [
       "True"
      ]
     },
     "execution_count": 8,
     "metadata": {
      "tags": []
     },
     "output_type": "execute_result"
    }
   ],
   "source": [
    "bool(10) and True "
   ]
  },
  {
   "cell_type": "code",
   "execution_count": null,
   "metadata": {
    "colab": {
     "base_uri": "https://localhost:8080/"
    },
    "id": "18XvYOuxFN22",
    "outputId": "3a35517f-e4ce-437f-c05b-79943d6072b8"
   },
   "outputs": [
    {
     "name": "stdout",
     "output_type": "stream",
     "text": [
      "Signo:\n",
      "[[ 1  1  1  1]\n",
      " [ 1  1  1  1]\n",
      " [-1 -1 -1 -1]]\n",
      "Valor absoluto:\n",
      "[[1 2 3 4]\n",
      " [5 6 7 8]\n",
      " [1 2 3 4]]\n",
      "Coseno:\n",
      "[[ 0.54030231 -0.41614684 -0.9899925  -0.65364362]\n",
      " [ 0.28366219  0.96017029  0.75390225 -0.14550003]\n",
      " [ 0.54030231 -0.41614684 -0.9899925  -0.65364362]]\n",
      "Seno:\n",
      "[[ 0.84147098  0.90929743  0.14112001 -0.7568025 ]\n",
      " [-0.95892427 -0.2794155   0.6569866   0.98935825]\n",
      " [-0.84147098 -0.90929743 -0.14112001  0.7568025 ]]\n",
      "Tangente:\n",
      "[[ 1.55740772 -2.18503986 -0.14254654  1.15782128]\n",
      " [-3.38051501 -0.29100619  0.87144798 -6.79971146]\n",
      " [-1.55740772  2.18503986  0.14254654 -1.15782128]]\n",
      "Exponencial:\n",
      "[[2.71828183e+00 7.38905610e+00 2.00855369e+01 5.45981500e+01]\n",
      " [1.48413159e+02 4.03428793e+02 1.09663316e+03 2.98095799e+03]\n",
      " [3.67879441e-01 1.35335283e-01 4.97870684e-02 1.83156389e-02]]\n",
      "Logaritmo natural:\n",
      "[[0.         0.69314718 1.09861229 1.38629436]\n",
      " [1.60943791 1.79175947 1.94591015 2.07944154]\n",
      " [       nan        nan        nan        nan]]\n"
     ]
    },
    {
     "name": "stderr",
     "output_type": "stream",
     "text": [
      "/usr/local/lib/python3.7/dist-packages/ipykernel_launcher.py:18: RuntimeWarning: invalid value encountered in log\n"
     ]
    }
   ],
   "source": [
    "x = np.matrix([[1,2,3,4],\n",
    "               [5,6,7,8],\n",
    "               [-1,-2,-3,-4]])\n",
    "\n",
    "print(\"Signo:\")\n",
    "print(np.sign(x))\n",
    "print(\"Valor absoluto:\")\n",
    "print(np.abs(x))\n",
    "print(\"Coseno:\")\n",
    "print(np.cos(x))\n",
    "print(\"Seno:\")\n",
    "print(np.sin(x))\n",
    "print(\"Tangente:\")\n",
    "print(np.tan(x))\n",
    "print(\"Exponencial:\")\n",
    "print(np.exp(x))\n",
    "print(\"Logaritmo natural:\")\n",
    "print(np.log(x))"
   ]
  },
  {
   "cell_type": "code",
   "execution_count": null,
   "metadata": {
    "colab": {
     "base_uri": "https://localhost:8080/"
    },
    "id": "MioQP56qFN23",
    "outputId": "3aad3df3-5592-43c0-d390-594329fcd2f9"
   },
   "outputs": [
    {
     "name": "stdout",
     "output_type": "stream",
     "text": [
      "Logaritmo base 2:\n",
      "[[0.         1.         1.5849625  2.        ]\n",
      " [2.32192809 2.5849625  2.80735492 3.        ]\n",
      " [       nan        nan        nan        nan]]\n"
     ]
    },
    {
     "name": "stderr",
     "output_type": "stream",
     "text": [
      "/usr/local/lib/python3.7/dist-packages/ipykernel_launcher.py:2: RuntimeWarning: invalid value encountered in log2\n",
      "  \n"
     ]
    }
   ],
   "source": [
    "print(\"Logaritmo base 2:\")\n",
    "print(np.log2(x))"
   ]
  },
  {
   "cell_type": "code",
   "execution_count": null,
   "metadata": {
    "colab": {
     "base_uri": "https://localhost:8080/"
    },
    "id": "ORdyf5flFN24",
    "outputId": "175d902d-d4c5-4ab9-8c75-c3481e974b51"
   },
   "outputs": [
    {
     "name": "stdout",
     "output_type": "stream",
     "text": [
      "Raiz cuadrada:\n",
      "[[1.         1.41421356 1.73205081 2.        ]\n",
      " [2.23606798 2.44948974 2.64575131 2.82842712]\n",
      " [       nan        nan        nan        nan]]\n"
     ]
    },
    {
     "name": "stderr",
     "output_type": "stream",
     "text": [
      "/usr/local/lib/python3.7/dist-packages/ipykernel_launcher.py:2: RuntimeWarning: invalid value encountered in sqrt\n",
      "  \n"
     ]
    }
   ],
   "source": [
    "print(\"Raiz cuadrada:\")\n",
    "print(np.sqrt(x))"
   ]
  },
  {
   "cell_type": "code",
   "execution_count": null,
   "metadata": {
    "colab": {
     "base_uri": "https://localhost:8080/"
    },
    "id": "7E6cT9AZFN25",
    "outputId": "e860be8c-bb87-4d09-d22a-7938001ddda9"
   },
   "outputs": [
    {
     "name": "stdout",
     "output_type": "stream",
     "text": [
      "Exponenciacion(cuadrado):\n",
      "[[ 1  4  9 16]\n",
      " [25 36 49 64]\n",
      " [ 1  4  9 16]]\n"
     ]
    }
   ],
   "source": [
    "print(\"Exponenciacion(cuadrado):\")\n",
    "print(np.power(x,2))"
   ]
  },
  {
   "cell_type": "markdown",
   "metadata": {
    "id": "AHOXHvWpFN26"
   },
   "source": [
    "#### Nota: \n",
    "En algunos casos requeriremos crear nuestras propias funciones y es recomendable que se apeguen a las ufuncs, es decir que se puedan aplicar independiente de la dimensión del objeto al que se aplican, que soporten broadcasting y muy importante **que su definición evite ciclos y use operaciones vectorizadas y otras ufuncs** , esto será parte de los criterios de evaluación en tareas y exámenes en este curso."
   ]
  }
 ],
 "metadata": {
  "colab": {
   "name": "Clase_07_Numpy_y_linalg-Matrices-parte1.ipynb",
   "provenance": []
  },
  "kernelspec": {
   "display_name": "Python 3",
   "language": "python",
   "name": "python3"
  },
  "language_info": {
   "codemirror_mode": {
    "name": "ipython",
    "version": 3
   },
   "file_extension": ".py",
   "mimetype": "text/x-python",
   "name": "python",
   "nbconvert_exporter": "python",
   "pygments_lexer": "ipython3",
   "version": "3.8.5"
  }
 },
 "nbformat": 4,
 "nbformat_minor": 1
}
