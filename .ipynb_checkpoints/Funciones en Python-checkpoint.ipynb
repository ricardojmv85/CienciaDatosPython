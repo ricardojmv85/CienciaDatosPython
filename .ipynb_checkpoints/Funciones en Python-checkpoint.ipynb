{
 "cells": [
  {
   "cell_type": "markdown",
   "metadata": {},
   "source": [
    "## Funciones en Python"
   ]
  },
  {
   "cell_type": "markdown",
   "metadata": {},
   "source": [
    "### Funciones"
   ]
  },
  {
   "cell_type": "markdown",
   "metadata": {},
   "source": [
    "Python nos permite definir funciones y procedimientos, los cuales no son mas que un conjunto de instrucciones a ejecutarse cuando esta funcion es llamada o instaciada a ejecutarse, dependiento de si es funcion o procedimiento, retornara un valor. Un procedimiento ejecuta su codigo pero no devuelve ningun valor, por el otro lado la funcion bajo la mera deficion de funcion tiene que devolver un valor. La ventaja de definir funciones es que se puede reutilizar el codigo que se encuentre dentro de el, asi como tambien parametrizarlo para que se ejecute de forma general para diferentes parametros de entrada.\n",
    "\n",
    "Las funciones y parametros en Python se definen de forma similar, a continuacion podemos ver una funcion que al llamarla imprimira un texto."
   ]
  },
  {
   "cell_type": "code",
   "execution_count": 5,
   "metadata": {},
   "outputs": [
    {
     "name": "stdout",
     "output_type": "stream",
     "text": [
      "Hola Mundo!\n"
     ]
    }
   ],
   "source": [
    "# Definicion de procedimiento\n",
    "def imprimir_texto():\n",
    "    print(\"Hola Mundo!\")\n",
    "    \n",
    "# Llamado de la funcion    \n",
    "imprimir_texto()"
   ]
  },
  {
   "cell_type": "markdown",
   "metadata": {},
   "source": [
    "Ahora por otro lado podemos ver la definicion de un funcion"
   ]
  },
  {
   "cell_type": "code",
   "execution_count": 6,
   "metadata": {},
   "outputs": [
    {
     "name": "stdout",
     "output_type": "stream",
     "text": [
      "Hola Mundo!\n"
     ]
    }
   ],
   "source": [
    "# Definicion de funcion\n",
    "def obtener_texto():\n",
    "    texto = \"Hola Mundo!\"\n",
    "    return texto\n",
    "\n",
    "texto_a_imprimir = obtener_texto()\n",
    "print(texto_a_imprimir)"
   ]
  },
  {
   "cell_type": "markdown",
   "metadata": {},
   "source": [
    "Como podemos observar el diferenciador es que el procedimiento no retorna ningun valor sino que la impresion del texto esa adentro de su bloque de codigo, mientras que la funcion retorna el texto, nosotros guardamos ese texto en la variable texto_a_imprimir y luego la imprimimos, pero fuera del bloque de codigo de la funcion."
   ]
  },
  {
   "cell_type": "markdown",
   "metadata": {},
   "source": [
    "### Parametros posicionales, nombrados y opcionales"
   ]
  },
  {
   "cell_type": "markdown",
   "metadata": {},
   "source": [
    "Anteriormente definimos funciones y procedimientos sin parametros de entrada, comunmente las funciones cuentan con parametros de entrada los cuales son sobre los cuales se ejecutan las instrucciones de la funcion. \n",
    "Veamos una funcion que recibe 2 parametros, un nombre, un apellido y retorna los dos parametros unidos."
   ]
  },
  {
   "cell_type": "code",
   "execution_count": 7,
   "metadata": {},
   "outputs": [
    {
     "name": "stdout",
     "output_type": "stream",
     "text": [
      "John Doe\n"
     ]
    }
   ],
   "source": [
    "def unir_nombres(nombre, apellido):\n",
    "    nombre_completo = nombre + \" \" + apellido\n",
    "    return nombre_completo\n",
    "\n",
    "nombre = unir_nombres('John', 'Doe')\n",
    "print(nombre)"
   ]
  },
  {
   "cell_type": "markdown",
   "metadata": {},
   "source": [
    "Como es de esperarse la funcion retorno el nombre completo, formado por el parametro nombre y apellido. Algo importante a mencionar es que el orden en que se pasan los parametros importa, ya que es el orden en que se definieron en la funcion, entonces por ejemplo probemos cambiarlos."
   ]
  },
  {
   "cell_type": "code",
   "execution_count": 8,
   "metadata": {},
   "outputs": [
    {
     "name": "stdout",
     "output_type": "stream",
     "text": [
      "Doe John\n"
     ]
    }
   ],
   "source": [
    "def unir_nombres(nombre, apellido):\n",
    "    nombre_completo = nombre + \" \" + apellido\n",
    "    return nombre_completo\n",
    "\n",
    "nombre = unir_nombres('Doe', 'John')\n",
    "print(nombre)"
   ]
  },
  {
   "cell_type": "markdown",
   "metadata": {},
   "source": [
    "El resultado tal como se describio, fue volteado debido a que los parametros fueron dados en otro order al deseado. Ahora bien podemos pasar los parametros sin importar el orden siempre y cuando le indiquemos a la llamada de la funcion, a que parametro le estamos pasando que valor. Volviendo a hacer uso de la ultima funcion, pero indicando a que parametro va cada valor."
   ]
  },
  {
   "cell_type": "code",
   "execution_count": 9,
   "metadata": {},
   "outputs": [
    {
     "name": "stdout",
     "output_type": "stream",
     "text": [
      "John Doe\n"
     ]
    }
   ],
   "source": [
    "def unir_nombres(nombre, apellido):\n",
    "    nombre_completo = nombre + \" \" + apellido\n",
    "    return nombre_completo\n",
    "\n",
    "nombre = unir_nombres(apellido='Doe', nombre='John')\n",
    "print(nombre)"
   ]
  },
  {
   "cell_type": "markdown",
   "metadata": {},
   "source": [
    "Otro tipo de parametros a mencionar son los parametros opcionales de una funcion o procedimiento, estos parametros quedan a disposicion de la llamda el incluir los valores de esos parametros o no, ya que la funcion fallara si un parametro no es definido, es necesario definirle un valor por default a los parametros opcionales. Veamos como seria un parametro opcional."
   ]
  },
  {
   "cell_type": "code",
   "execution_count": 12,
   "metadata": {},
   "outputs": [
    {
     "name": "stdout",
     "output_type": "stream",
     "text": [
      "John Doe Apellido2\n"
     ]
    }
   ],
   "source": [
    "def unir_nombres(nombre, apellido, segundo_apellido='Apellido2'):\n",
    "    nombre_completo = nombre + \" \" + apellido + \" \" + segundo_apellido\n",
    "    return nombre_completo\n",
    "\n",
    "nombre = unir_nombres(nombre='John', apellido='Doe')\n",
    "print(nombre)"
   ]
  },
  {
   "cell_type": "markdown",
   "metadata": {},
   "source": [
    "Como podemos observar, la funcion no fallo, sino que acepto que solo dos parametros se pasaran y el tercero fue utilizado con su falor definido por default."
   ]
  },
  {
   "cell_type": "markdown",
   "metadata": {},
   "source": [
    "### Retorno de multiples valores"
   ]
  },
  {
   "cell_type": "markdown",
   "metadata": {},
   "source": [
    "Anteriormente discutimos la diferencia entre funcion y procedimiento, en el caso de la funcion disfrutamos del retorno de un valor. Algo a discutir es que no solamente retorna un valor, sino que puede devolver varios valores y estos pueden ser recibidos como una tupla por una variable. Veamos ahora un ejemplo."
   ]
  },
  {
   "cell_type": "code",
   "execution_count": 13,
   "metadata": {},
   "outputs": [
    {
     "name": "stdout",
     "output_type": "stream",
     "text": [
      "(0, 2, 4, 6, 8, 10)\n"
     ]
    }
   ],
   "source": [
    "def numeros_pares():\n",
    "    return 0, 2, 4, 6, 8, 10\n",
    "\n",
    "numeros = numeros_pares()\n",
    "print(numeros)"
   ]
  },
  {
   "cell_type": "markdown",
   "metadata": {},
   "source": [
    "### Funciones como input de otras funciones"
   ]
  },
  {
   "cell_type": "markdown",
   "metadata": {},
   "source": [
    "Ya que en Python todos los elementos son objetos de una clase, las variables son objetos de una clase, por ejemplo una variable con un texto, es un objeto de una clase de tipo texto. Revisemos esto a continuacion::"
   ]
  },
  {
   "cell_type": "code",
   "execution_count": 16,
   "metadata": {},
   "outputs": [
    {
     "name": "stdout",
     "output_type": "stream",
     "text": [
      "<class 'str'>\n"
     ]
    }
   ],
   "source": [
    "test = \"test\"\n",
    "print(type(test))"
   ]
  },
  {
   "cell_type": "markdown",
   "metadata": {},
   "source": [
    "la variable test es un objeto de clase 'str' osea string (texto). Tomando en consideracion esto, podemos decir que las funciones son tambien objetos, revisemos"
   ]
  },
  {
   "cell_type": "code",
   "execution_count": 20,
   "metadata": {},
   "outputs": [
    {
     "name": "stdout",
     "output_type": "stream",
     "text": [
      "<class 'function'>\n"
     ]
    }
   ],
   "source": [
    "def test():\n",
    "    return 1\n",
    "print(type(test))    "
   ]
  },
  {
   "cell_type": "markdown",
   "metadata": {},
   "source": [
    "teniendo en cuenta las funciones son objetos de clase 'function', y las variables son objetos, entonces las funciones reciben como parametro objetos de X tipo, lo que quiere decir que las funciones pueden recibir como parametro otra funcion. Probemos este enunciado."
   ]
  },
  {
   "cell_type": "code",
   "execution_count": 22,
   "metadata": {},
   "outputs": [
    {
     "name": "stdout",
     "output_type": "stream",
     "text": [
      "2\n"
     ]
    }
   ],
   "source": [
    "def retornar_uno():\n",
    "    return 1\n",
    "\n",
    "def sumar(valor1, valor2):\n",
    "    return valor1 + valor2()\n",
    "\n",
    "suma = sumar(1, retornar_uno)\n",
    "print(suma)"
   ]
  },
  {
   "cell_type": "markdown",
   "metadata": {},
   "source": [
    "como vemos, la funcion sumar acepto la funcion retornar_uno, la cual nos daria el segundo sumando para la operacion que se realizaba en la funcion sumar."
   ]
  },
  {
   "cell_type": "markdown",
   "metadata": {},
   "source": [
    "### Funciones Lambda (anonimas)"
   ]
  },
  {
   "cell_type": "markdown",
   "metadata": {},
   "source": [
    "En varios lenguajes existen lo que son funciones anonimas, llamadas mas popularmente Lambda en python. Estas funciones obtienen el nombre de anonimas debido a que no se definen por un nombre como comunmente lo hemos ejemplificado con la palabra 'def', estas funciones permiten ejecutar codigo mas simple que las funciones normales. La forma mas comun de guardar estas funciones es asignarla a una variable o simplemente no se vuelven a utilizar. Veamos un ejemplo."
   ]
  },
  {
   "cell_type": "code",
   "execution_count": 24,
   "metadata": {},
   "outputs": [
    {
     "data": {
      "text/plain": [
       "5"
      ]
     },
     "execution_count": 24,
     "metadata": {},
     "output_type": "execute_result"
    }
   ],
   "source": [
    "suma = lambda parametro1: parametro1 + 2\n",
    "suma(3)"
   ]
  },
  {
   "cell_type": "markdown",
   "metadata": {},
   "source": [
    "al igual que las demas funciones, las funciones anonimas pueden recibir multiples parametros."
   ]
  },
  {
   "cell_type": "code",
   "execution_count": 25,
   "metadata": {},
   "outputs": [
    {
     "data": {
      "text/plain": [
       "7"
      ]
     },
     "execution_count": 25,
     "metadata": {},
     "output_type": "execute_result"
    }
   ],
   "source": [
    "suma = lambda parametro1, parametro2: parametro1 + 2 + parametro2\n",
    "suma(3, 2)"
   ]
  }
 ],
 "metadata": {
  "kernelspec": {
   "display_name": "Python 3",
   "language": "python",
   "name": "python3"
  },
  "language_info": {
   "codemirror_mode": {
    "name": "ipython",
    "version": 3
   },
   "file_extension": ".py",
   "mimetype": "text/x-python",
   "name": "python",
   "nbconvert_exporter": "python",
   "pygments_lexer": "ipython3",
   "version": "3.8.5"
  }
 },
 "nbformat": 4,
 "nbformat_minor": 4
}
